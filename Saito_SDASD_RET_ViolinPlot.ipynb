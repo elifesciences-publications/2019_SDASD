{
 "cells": [
  {
   "cell_type": "code",
   "execution_count": 1,
   "metadata": {
    "collapsed": true
   },
   "outputs": [],
   "source": [
    "import pickle\n",
    "import numpy as np\n",
    "from pandas import Series, DataFrame\n",
    "import pandas as pd\n",
    "import matplotlib.pyplot as plt\n",
    "import matplotlib as mpl\n",
    "from matplotlib import mlab\n",
    "import seaborn as sns\n",
    "%matplotlib inline\n",
    "\n",
    "mpl.rcParams['xtick.direction'] = 'out'\n",
    "mpl.rcParams['ytick.direction'] = 'out'"
   ]
  },
  {
   "cell_type": "code",
   "execution_count": 2,
   "metadata": {
    "collapsed": true
   },
   "outputs": [],
   "source": [
    "import matplotlib.collections as cl"
   ]
  },
  {
   "cell_type": "code",
   "execution_count": 3,
   "metadata": {
    "collapsed": true
   },
   "outputs": [],
   "source": [
    "import warnings\n",
    "warnings.filterwarnings('ignore')"
   ]
  },
  {
   "cell_type": "code",
   "execution_count": 4,
   "metadata": {
    "collapsed": true
   },
   "outputs": [],
   "source": [
    "def RCRPM_loading(RC,RPM,filename,endtype,densitypath):\n",
    "    with open(densitypath+filename+endtype+'_readcounts.pickle', 'rb') as f:\n",
    "        RC[filename]=pickle.load(f)\n",
    "    with open(densitypath+filename+endtype+'_rpm.pickle', 'rb') as f:\n",
    "        RPM[filename]=pickle.load(f)\n",
    "    #return [rcs,rpms]"
   ]
  },
  {
   "cell_type": "code",
   "execution_count": 5,
   "metadata": {},
   "outputs": [
    {
     "name": "stdout",
     "output_type": "stream",
     "text": [
      "2019-07-20 17:25:57.865302\n",
      "2019-07-20 17:26:21.003068\n"
     ]
    }
   ],
   "source": [
    "import multiprocessing\n",
    "import pickle\n",
    "import threading\n",
    "from datetime import datetime\n",
    "\n",
    "print datetime.now()\n",
    "\n",
    "manager = multiprocessing.Manager()\n",
    "RC = manager.dict()\n",
    "RPM = manager.dict()\n",
    "\n",
    "jobs = []\n",
    "    \n",
    "filenames = ['ks170','ks171','ks172','ks182ks110ks83']\n",
    "endtype = '_3map'\n",
    "densitypath = '/home/kazuki/^profilingdata/20190503/density_V_options_2/'\n",
    "for filename in filenames:\n",
    "    job = multiprocessing.Process(target=RCRPM_loading, args=(RC,RPM,filename,endtype,densitypath))\n",
    "    jobs.append(job)\n",
    "    job.start()         \n",
    "    \n",
    "[job.join() for job in jobs] # just to get the time by the below line\n",
    "\n",
    "print datetime.now() "
   ]
  },
  {
   "cell_type": "code",
   "execution_count": 6,
   "metadata": {
    "collapsed": true
   },
   "outputs": [],
   "source": [
    "outputfile2 = '/home/kazuki/^data_analysis/^Ecoli_Genome/Positions_ATG_InRNA.csv'\n",
    "Positions_DataFrame = pd.read_csv(outputfile2)\n",
    "Positions_DataFrame = Positions_DataFrame.loc[:,~Positions_DataFrame.columns.str.contains('^Unnamed')]\n",
    "\n",
    "Start = Positions_DataFrame['At_start'].notnull()\n",
    "notStart = Positions_DataFrame['At_start'].isnull()\n",
    "\n",
    "inRNA = Positions_DataFrame['In_RNA']=='yes'\n",
    "not_inRNA = Positions_DataFrame['In_RNA'].isnull()"
   ]
  },
  {
   "cell_type": "code",
   "execution_count": 7,
   "metadata": {
    "collapsed": true
   },
   "outputs": [],
   "source": [
    "def get_position_dict(df):\n",
    "    df.reset_index(inplace=True)\n",
    "    position_dict = {}\n",
    "    position_dict['+']=[]\n",
    "    position_dict['-']=[]\n",
    "    for i in range(len(df)):\n",
    "        if df.loc[i,'strand'] == '+':\n",
    "            position_dict['+'].append(df.loc[i,'ATG'])\n",
    "        if df.loc[i,'strand'] == '-':\n",
    "            position_dict['-'].append(df.loc[i,'ATG'])\n",
    "    return position_dict\n",
    "\n",
    "def threshold(cut_off,readcountsf_plus, position, upstream_length,downstream_length):\n",
    "    if sum(readcountsf_plus[position-upstream_length:position+downstream_length])>=cut_off:\n",
    "        return 'yes'\n",
    "    else:\n",
    "        return 'no'\n",
    "\n",
    "# Calculate Initiation Score    \n",
    "def peak_ratio(cut_off,readcounts,positions,upstream_length,downstream_length,peak_upstream,peak_downstream):\n",
    "    peaks = {}\n",
    "    peaks['+']={}\n",
    "    peaks['-']={}\n",
    "    \n",
    "    total_plus = 0\n",
    "    readcounts_plus = readcounts[0][readcounts[0].keys()[0]]\n",
    "    #rpm_plus = rpm[0][rpm[0].keys()[0]]\n",
    "    position_plus = positions['+']\n",
    "    for position in position_plus:\n",
    "        cut_off_result = threshold(cut_off,readcounts_plus,position,upstream_length,downstream_length)\n",
    "        if cut_off_result == 'yes':  \n",
    "            total_read = sum(readcounts_plus[position-upstream_length-1:position+downstream_length-1])\n",
    "            peak_read = sum(readcounts_plus[position-peak_upstream-1:position+peak_downstream-1])\n",
    "            if total_read!=0 and peak_read!=0:\n",
    "                total_plus+=1\n",
    "                total_average = float(total_read)/len(readcounts_plus[position-upstream_length-1:position+downstream_length-1])\n",
    "                peak_average = float(peak_read)/len(readcounts_plus[position-peak_upstream-1:position+peak_downstream-1])\n",
    "                if total_average !=0:\n",
    "                    peak_ratio = float(peak_average)/total_average\n",
    "                    if peak_ratio != 0:\n",
    "                        peaks['+'][position]=peak_ratio\n",
    "            \n",
    "    total_minus = 0\n",
    "    readcounts_minus = readcounts[1][readcounts[1].keys()[0]]\n",
    "    #rpm_minus = rpm[1][rpm[1].keys()[0]]\n",
    "    position_minus = positions['-']\n",
    "    for position in position_minus:\n",
    "        cut_off_result = threshold(cut_off,readcounts_minus,position,downstream_length,upstream_length)# opposite as minus       \n",
    "        if cut_off_result == 'yes':   \n",
    "            total_read = sum(readcounts_minus[position-downstream_length:position+upstream_length])\n",
    "            peak_read = sum(readcounts_minus[position-peak_downstream:position+peak_upstream])\n",
    "            if total_read!=0:\n",
    "                total_minus+=1\n",
    "                total_average = float(total_read)/len(readcounts_minus[position-downstream_length:position+upstream_length])\n",
    "                peak_average = float(peak_read)/len(readcounts_minus[position-peak_downstream:position+peak_upstream])\n",
    "                if total_average !=0:\n",
    "                    peak_ratio = float(peak_average)/total_average\n",
    "                    if peak_ratio != 0:\n",
    "                        peaks['-'][position]=peak_ratio\n",
    "    \n",
    "    return peaks\n",
    "\n",
    "def get_log2PeakScore(peaks):\n",
    "    FD=[]\n",
    "    for strand in peaks.keys():\n",
    "        FD = FD + peaks[strand].values()\n",
    "    print len(FD)\n",
    "    return np.log2(FD)"
   ]
  },
  {
   "cell_type": "markdown",
   "metadata": {},
   "source": [
    "# Actual analysis of libraries"
   ]
  },
  {
   "cell_type": "code",
   "execution_count": 8,
   "metadata": {
    "collapsed": true
   },
   "outputs": [],
   "source": [
    "threshold_setting = 10\n",
    "\n",
    "distance = 50\n",
    "upstream_length_setting = distance\n",
    "downstream_length_setting = distance\n",
    "\n",
    "peak_upstream = -3\n",
    "peak_downstream = 21"
   ]
  },
  {
   "cell_type": "markdown",
   "metadata": {},
   "source": [
    "# NON-start"
   ]
  },
  {
   "cell_type": "code",
   "execution_count": 9,
   "metadata": {
    "collapsed": true
   },
   "outputs": [],
   "source": [
    "def IS_violin(df,libraries,facecolor):\n",
    "    fig, ax = plt.subplots()\n",
    "    #fig.set_dpi(500)\n",
    "    fig.set_size_inches(1.2, 2)\n",
    "\n",
    "    positions = get_position_dict(df)\n",
    "    data = []\n",
    "    median_list = []\n",
    "    for library in libraries:\n",
    "        peaks=peak_ratio(threshold_setting,RC[library],positions,upstream_length_setting,downstream_length_setting,peak_upstream,peak_downstream)\n",
    "        FDs=get_log2PeakScore(peaks)    \n",
    "        ##\n",
    "        FDs_omited_too_low = []\n",
    "        for FD in FDs:\n",
    "            if FD > -6:\n",
    "                FDs_omited_too_low.append(FD)\n",
    "        FDs = np.array(FDs_omited_too_low)     \n",
    "        ##\n",
    "        data.append(FDs)\n",
    "        median_list.append(np.median(FDs))\n",
    "\n",
    "    result_dict = ax.violinplot(data, showextrema=False, showmedians=False,widths=0.8) \n",
    "\n",
    "    for pc in result_dict['bodies']:\n",
    "        pc.set_facecolor(facecolor)\n",
    "        pc.set_edgecolor('black')\n",
    "        pc.set_alpha(1)\n",
    "\n",
    "    orig_violin = result_dict['bodies'][0]  # in this case, there is only one violin plot, hence [0]\n",
    "    orig_vertices = orig_violin.get_paths()[0].vertices # extract the vertices coordinates from the Path object contained in the PolyCollection\n",
    "\n",
    "    top = orig_vertices[orig_vertices[:,1]>=1.5]   # the vertices above the median\n",
    "    bottom = orig_vertices[orig_vertices[:,1]<=1.5] # and below \n",
    "\n",
    "    # create new PolyCollections, adjusting their appearance as desired\n",
    "    topP = cl.PolyCollection([top])\n",
    "    topP.set_facecolor('black')\n",
    "    topP.set_edgecolor('black')\n",
    "    bottomP = cl.PolyCollection([bottom])\n",
    "    bottomP.set_facecolor('lightgrey')\n",
    "    bottomP.set_edgecolor('black')\n",
    "    ax.add_collection(topP)\n",
    "    ax.add_collection(bottomP)\n",
    "\n",
    "    ax = sns.scatterplot(x=[1,2],y=median_list,color='white',zorder=10,s=10)\n",
    "\n",
    "    ax.xaxis.set_ticks_position('bottom')\n",
    "    ax.yaxis.set_ticks_position('left')\n",
    "    sns.despine()\n",
    "\n",
    "    plt.xlim(0.5,2.5)\n",
    "    plt.xticks([1,2],['WT','O-mut'])\n",
    "    plt.ylim(-6.5,3.5)\n",
    "    plt.yticks([-6,-3,0,3])\n",
    "    plt.ylabel('IS ($\\log_2$)')\n",
    "    plt.tick_params(labelsize=7)"
   ]
  },
  {
   "cell_type": "code",
   "execution_count": 10,
   "metadata": {},
   "outputs": [
    {
     "name": "stdout",
     "output_type": "stream",
     "text": [
      "2892\n",
      "2438\n"
     ]
    },
    {
     "data": {
      "image/png": "[encoded data removed]",
      "text/plain": [
       "<matplotlib.figure.Figure at 0x7fe3434f05d0>"
      ]
     },
     "metadata": {},
     "output_type": "display_data"
    }
   ],
   "source": [
    "df = Positions_DataFrame[notStart&inRNA]\n",
    "libraries = ['ks170','ks172']\n",
    "facecolor = 'forestgreen'\n",
    "\n",
    "IS_violin(df,libraries,facecolor)\n",
    "#plt.savefig('fig_reta_AGPviolin/ret_violin_nonstart_A.pdf', dpi=500, bbox_inches=\"tight\", pad_inches=0.0)"
   ]
  },
  {
   "cell_type": "code",
   "execution_count": 11,
   "metadata": {},
   "outputs": [
    {
     "name": "stdout",
     "output_type": "stream",
     "text": [
      "2892\n",
      "10215\n"
     ]
    },
    {
     "data": {
      "image/png": "[encoded data removed]",
      "text/plain": [
       "<matplotlib.figure.Figure at 0x7fe3f652e890>"
      ]
     },
     "metadata": {},
     "output_type": "display_data"
    }
   ],
   "source": [
    "df = Positions_DataFrame[notStart&inRNA]\n",
    "libraries = ['ks170','ks182ks110ks83']\n",
    "facecolor = 'cornflowerblue'\n",
    "\n",
    "IS_violin(df,libraries,facecolor)\n",
    "#plt.savefig('fig_reta_AGPviolin/ret_violin_nonstart_O.pdf', dpi=500, bbox_inches=\"tight\", pad_inches=0.0)"
   ]
  },
  {
   "cell_type": "code",
   "execution_count": 12,
   "metadata": {},
   "outputs": [
    {
     "name": "stdout",
     "output_type": "stream",
     "text": [
      "2892\n",
      "3402\n"
     ]
    },
    {
     "data": {
      "image/png": "[encoded data removed]",
      "text/plain": [
       "<matplotlib.figure.Figure at 0x7fe3f7619610>"
      ]
     },
     "metadata": {},
     "output_type": "display_data"
    }
   ],
   "source": [
    "df = Positions_DataFrame[notStart&inRNA]\n",
    "libraries = ['ks170','ks171']\n",
    "facecolor = 'tomato'\n",
    "\n",
    "IS_violin(df,libraries,facecolor)\n",
    "#plt.savefig('fig_reta_AGPviolin/ret_violin_nonstart_S.pdf', dpi=500, bbox_inches=\"tight\", pad_inches=0.0)"
   ]
  },
  {
   "cell_type": "markdown",
   "metadata": {},
   "source": [
    "# genes specifically increased on Non-start"
   ]
  },
  {
   "cell_type": "code",
   "execution_count": 13,
   "metadata": {},
   "outputs": [
    {
     "name": "stdout",
     "output_type": "stream",
     "text": [
      "+\n",
      "214\n",
      "-\n",
      "280\n"
     ]
    }
   ],
   "source": [
    "distance = 50\n",
    "PeakScore_threshold = 1.5 \n",
    "\n",
    "threshold_setting = 10\n",
    "peak_upstream = -3\n",
    "peak_downstream = 21\n",
    "upstream_length_setting = distance\n",
    "downstream_length_setting = distance\n",
    "graph_upstream = upstream_length_setting-25\n",
    "graph_downstream = upstream_length_setting+50\n",
    "\n",
    "########################################################################\n",
    "\n",
    "high_group={}\n",
    "\n",
    "f = 'ks170'\n",
    "readcounts = RC[f]\n",
    "    \n",
    "df = Positions_DataFrame[notStart&inRNA]\n",
    "df.reset_index(inplace=True)\n",
    "position_dict = {}\n",
    "position_dict['+']=[]\n",
    "position_dict['-']=[]\n",
    "for i in range(len(df)):\n",
    "    if df.loc[i,'strand'] == '+':\n",
    "        position_dict['+'].append(df.loc[i,'ATG'])\n",
    "    if df.loc[i,'strand'] == '-':\n",
    "        position_dict['-'].append(df.loc[i,'ATG'])\n",
    "positions = position_dict\n",
    "\n",
    "peaks=peak_ratio(threshold_setting,readcounts,positions,upstream_length_setting,downstream_length_setting,peak_upstream,peak_downstream)\n",
    "\n",
    "high_group[f]={}\n",
    "for strand in peaks.keys():\n",
    "    high_group[f][strand]={}\n",
    "    for position in peaks[strand].keys():\n",
    "        if np.log2(peaks[strand][position]) > PeakScore_threshold:\n",
    "            high_group[f][strand][position] = peaks[strand][position]\n",
    "\n",
    "for key in high_group[f].keys():\n",
    "    print key\n",
    "    print len(high_group[f][key])\n",
    "\n",
    "plus_strand = Positions_DataFrame['strand'] == '+'\n",
    "minus_strand = Positions_DataFrame['strand'] == '-' \n",
    "WT_high_group_plus = Positions_DataFrame['ATG'].isin(high_group['ks170']['+'])\n",
    "WT_high_group_minus = Positions_DataFrame['ATG'].isin(high_group['ks170']['-'])\n",
    "WT_normal_group_plus = Positions_DataFrame['ATG'].isin(high_group['ks170']['+']) == False\n",
    "WT_normal_group_minus = Positions_DataFrame['ATG'].isin(high_group['ks170']['-']) == False"
   ]
  },
  {
   "cell_type": "code",
   "execution_count": 14,
   "metadata": {
    "collapsed": true
   },
   "outputs": [],
   "source": [
    "def df_selector(Positions_DataFrame,which):\n",
    "    df = Positions_DataFrame[notStart&inRNA]\n",
    "    df1_1=df[WT_high_group_plus & plus_strand]\n",
    "    df1_2=df[WT_high_group_minus & minus_strand]\n",
    "    df1 = pd.concat([df1_1,df1_2])\n",
    "    df2_1=df[WT_normal_group_plus & plus_strand]\n",
    "    df2_2=df[WT_normal_group_minus & minus_strand]\n",
    "    df2 = pd.concat([df2_1,df2_2])\n",
    "    dfs = [df1,df2]\n",
    "    return dfs[which]"
   ]
  },
  {
   "cell_type": "code",
   "execution_count": 15,
   "metadata": {
    "collapsed": true,
    "scrolled": false
   },
   "outputs": [],
   "source": [
    "def IS_violin_sorted(libraries,facecolor):\n",
    "    data = []\n",
    "    median_list = []\n",
    "    for which_df in [0,1]:\n",
    "        df_to_use = df_selector(Positions_DataFrame,which_df)\n",
    "        positions = get_position_dict(df_to_use)\n",
    "        for library in libraries:\n",
    "            peaks=peak_ratio(threshold_setting,RC[library],positions,upstream_length_setting,downstream_length_setting,peak_upstream,peak_downstream)\n",
    "            FDs=get_log2PeakScore(peaks)\n",
    "            ##\n",
    "            FDs_omited_too_low = []\n",
    "            for FD in FDs:\n",
    "                if FD > -6:\n",
    "                    FDs_omited_too_low.append(FD)\n",
    "            FDs = np.array(FDs_omited_too_low)     \n",
    "            ##\n",
    "            data.append(FDs)\n",
    "            median_list.append(np.median(FDs))\n",
    "\n",
    "\n",
    "    fig, ax = plt.subplots()\n",
    "    #fig.set_dpi(500)\n",
    "    fig.set_size_inches(2, 2)\n",
    "\n",
    "    result_dict = ax.violinplot(data, showextrema=False, showmedians=False,widths=0.8) \n",
    "\n",
    "    for pc in result_dict['bodies']:\n",
    "        pc.set_facecolor(facecolor)\n",
    "        pc.set_edgecolor('black')\n",
    "        pc.set_alpha(1)\n",
    "\n",
    "    one_of_violin = result_dict['bodies'][0]  \n",
    "    one_of_vertices = one_of_violin.get_paths()[0].vertices \n",
    "    one_of_P = cl.PolyCollection([one_of_vertices])\n",
    "    one_of_P.set_facecolor('black')\n",
    "    one_of_P.set_edgecolor('black')\n",
    "    ax.add_collection(one_of_P)\n",
    "\n",
    "    another_violin = result_dict['bodies'][2]  #\n",
    "    another_vertices = another_violin.get_paths()[0].vertices \n",
    "    another_P = cl.PolyCollection([another_vertices])\n",
    "    another_P.set_facecolor('lightgrey')\n",
    "    another_P.set_edgecolor('black')\n",
    "    ax.add_collection(another_P)\n",
    "\n",
    "    ax = sns.scatterplot(x=[1,2],y=median_list[:2],color='white',zorder=10,s=10)\n",
    "    ax = sns.scatterplot(x=[3,4],y=median_list[2:4],color='white',zorder=10,s=10)\n",
    "\n",
    "    ax.xaxis.set_ticks_position('bottom')\n",
    "    ax.yaxis.set_ticks_position('left')\n",
    "    sns.despine()\n",
    "\n",
    "    plt.xlim(0.5,4.5)\n",
    "    plt.xticks([1,2,3,4],['WT','Mut','WT','Mut'])\n",
    "    plt.ylim(-6.5,3.5)\n",
    "    plt.yticks([-6,-3,0,3])\n",
    "    plt.ylabel('IS ($\\log_2$)',fontname=\"Arial\")\n",
    "    plt.tick_params(labelsize=7)"
   ]
  },
  {
   "cell_type": "code",
   "execution_count": 16,
   "metadata": {},
   "outputs": [
    {
     "name": "stdout",
     "output_type": "stream",
     "text": [
      "494\n",
      "349\n",
      "2398\n",
      "2089\n"
     ]
    },
    {
     "data": {
      "image/png": "[encoded data removed]",
      "text/plain": [
       "<matplotlib.figure.Figure at 0x7fe3f762acd0>"
      ]
     },
     "metadata": {},
     "output_type": "display_data"
    }
   ],
   "source": [
    "libraries = ['ks170','ks172']\n",
    "facecolor = 'forestgreen'\n",
    "\n",
    "IS_violin_sorted(libraries,facecolor)\n",
    "#plt.savefig('fig_reta_AGPviolin/ret_violin_nonstart_A_highandlow.pdf', dpi=500, bbox_inches=\"tight\", pad_inches=0.0)"
   ]
  },
  {
   "cell_type": "code",
   "execution_count": 17,
   "metadata": {},
   "outputs": [
    {
     "name": "stdout",
     "output_type": "stream",
     "text": [
      "494\n",
      "364\n",
      "2398\n",
      "9851\n"
     ]
    },
    {
     "data": {
      "image/png": "[encoded data removed]",
      "text/plain": [
       "<matplotlib.figure.Figure at 0x7fe3f76ade50>"
      ]
     },
     "metadata": {},
     "output_type": "display_data"
    }
   ],
   "source": [
    "libraries = ['ks170','ks182ks110ks83']\n",
    "facecolor = 'cornflowerblue'\n",
    "\n",
    "IS_violin_sorted(libraries,facecolor)\n",
    "#plt.savefig('fig_reta_AGPviolin/ret_violin_nonstart_A_highandlow.pdf', dpi=500, bbox_inches=\"tight\", pad_inches=0.0)"
   ]
  },
  {
   "cell_type": "code",
   "execution_count": 18,
   "metadata": {},
   "outputs": [
    {
     "name": "stdout",
     "output_type": "stream",
     "text": [
      "494\n",
      "387\n",
      "2398\n",
      "3015\n"
     ]
    },
    {
     "data": {
      "image/png": "[encoded data removed]",
      "text/plain": [
       "<matplotlib.figure.Figure at 0x7fe3f75d4950>"
      ]
     },
     "metadata": {},
     "output_type": "display_data"
    }
   ],
   "source": [
    "libraries = ['ks170','ks171']\n",
    "facecolor = 'tomato'\n",
    "\n",
    "IS_violin_sorted(libraries,facecolor)\n",
    "#plt.savefig('fig_reta_AGPviolin/ret_violin_nonstart_A_highandlow.pdf', dpi=500, bbox_inches=\"tight\", pad_inches=0.0)"
   ]
  },
  {
   "cell_type": "code",
   "execution_count": null,
   "metadata": {
    "collapsed": true
   },
   "outputs": [],
   "source": []
  },
  {
   "cell_type": "code",
   "execution_count": null,
   "metadata": {
    "collapsed": true
   },
   "outputs": [],
   "source": []
  }
 ],
 "metadata": {
  "kernelspec": {
   "display_name": "Python 2",
   "language": "python",
   "name": "python2"
  },
  "language_info": {
   "codemirror_mode": {
    "name": "ipython",
    "version": 2
   },
   "file_extension": ".py",
   "mimetype": "text/x-python",
   "name": "python",
   "nbconvert_exporter": "python",
   "pygments_lexer": "ipython2",
   "version": "2.7.15"
  }
 },
 "nbformat": 4,
 "nbformat_minor": 2
}
