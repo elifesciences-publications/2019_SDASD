{
 "cells": [
  {
   "cell_type": "code",
   "execution_count": 16,
   "metadata": {
    "collapsed": true
   },
   "outputs": [],
   "source": [
    "import os\n",
    "import pickle\n",
    "import numpy as np\n",
    "from pandas import Series, DataFrame\n",
    "import pandas as pd\n",
    "import matplotlib.collections as cl\n",
    "import matplotlib.pyplot as plt\n",
    "from matplotlib import mlab\n",
    "import seaborn as sns\n",
    "%matplotlib inline"
   ]
  },
  {
   "cell_type": "code",
   "execution_count": 2,
   "metadata": {
    "collapsed": true
   },
   "outputs": [],
   "source": [
    "import warnings\n",
    "warnings.filterwarnings('ignore')"
   ]
  },
  {
   "cell_type": "code",
   "execution_count": 6,
   "metadata": {
    "collapsed": true
   },
   "outputs": [],
   "source": [
    "def reverse_complement(seq):\n",
    "    complement = {'A': 'T', 'C': 'G', 'G': 'C', 'T': 'A'} \n",
    "    bases = list(seq) \n",
    "    # check if the input sequence is actually DNA\n",
    "    # If there is any letter ather than ATCG, this function will alert an error \n",
    "    for base in bases:\n",
    "        if base not in complement.keys():\n",
    "            print \"not DNA\"  \n",
    "    # actual reverse complement processes \n",
    "    complement_bases = [complement[base] for base in bases] \n",
    "    complement_seq = ''.join(complement_bases)\n",
    "    reverse_complement_seq = complement_seq[::-1] # possible to do this on list as well by reversed(list)  \n",
    "    return reverse_complement_seq# Change DNA to RNA\n",
    "\n",
    "def gff_plus_strand(gff_file):   \n",
    "    # a function to get the sequence of E coli genome from GFF file\n",
    "    # output is string\n",
    "    with open(gff_file) as fh:\n",
    "        plus_strand = ''\n",
    "        flag = 0\n",
    "        for line in fh:\n",
    "            if line[0] == \">\":\n",
    "                flag = 1\n",
    "                continue\n",
    "            if flag == 0:\n",
    "                continue\n",
    "            plus_strand = plus_strand + line[:-1]\n",
    "    return plus_strand "
   ]
  },
  {
   "cell_type": "code",
   "execution_count": 7,
   "metadata": {
    "collapsed": true
   },
   "outputs": [],
   "source": [
    "gff_file = 'coli.gff'\n",
    "plus_strand_sequence = gff_plus_strand(gff_file)"
   ]
  },
  {
   "cell_type": "code",
   "execution_count": null,
   "metadata": {
    "collapsed": true
   },
   "outputs": [],
   "source": [
    "outputfile2 = '/home/kazuki/^data_analysis/^Ecoli_Genome/Positions_ATG_InRNA.csv'\n",
    "Positions_DataFrame = pd.read_csv(outputfile2)\n",
    "Positions_DataFrame = Positions_DataFrame.loc[:,~Positions_DataFrame.columns.str.contains('^Unnamed')]\n",
    "\n",
    "Start = Positions_DataFrame['At_start'].notnull()\n",
    "notStart = Positions_DataFrame['At_start'].isnull()\n",
    "\n",
    "inRNA = Positions_DataFrame['In_RNA']=='yes'\n",
    "not_inRNA = Positions_DataFrame['In_RNA'].isnull()\n",
    "\n",
    "strong_at_CCUCC = Positions_DataFrame['Vs_uCCUCCa'] <= -4\n",
    "Not_strong_at_CCUCC = Positions_DataFrame['Vs_uCCUCCa'] > -4\n",
    "weak_at_CCUCC = Positions_DataFrame['Vs_uCCUCCa'] > 0\n",
    "\n",
    "\n",
    "\n",
    "strong_at_AGGGU = Positions_DataFrame['Vs_uAGGGUa'] <= -4\n",
    "Not_strong_at_AGGGU = Positions_DataFrame['Vs_uAGGGUa'] > -4\n",
    "strong_at_GGAGG = Positions_DataFrame['Vs_uGGAGGa'] <= -4\n",
    "Not_strong_at_GGAGG = Positions_DataFrame['Vs_uGGAGGa'] > -4\n",
    "strong_at_AAAAA = Positions_DataFrame['Vs_uAAAAAa'] <= -4\n",
    "Not_strong_at_AAAAA = Positions_DataFrame['Vs_uAAAAAa'] > -4"
   ]
  },
  {
   "cell_type": "code",
   "execution_count": 14,
   "metadata": {
    "collapsed": true
   },
   "outputs": [],
   "source": [
    "down_for_fasta = 30\n",
    "up_for_fasta = 30"
   ]
  },
  {
   "cell_type": "code",
   "execution_count": 21,
   "metadata": {},
   "outputs": [],
   "source": [
    "if not os.path.exists('kpLogo'):\n",
    "    os.makedirs('kpLogo')\n",
    "if not os.path.exists('kpLogo/fasta'):\n",
    "    os.makedirs('kpLogo/fasta')\n",
    "if not os.path.exists('kpLogo/results'):\n",
    "    os.makedirs('kpLogo/results')"
   ]
  },
  {
   "cell_type": "markdown",
   "metadata": {},
   "source": [
    "# Annotated with weakSD VS Non-annotated"
   ]
  },
  {
   "cell_type": "code",
   "execution_count": 22,
   "metadata": {
    "collapsed": true
   },
   "outputs": [],
   "source": [
    "df_to_use = Positions_DataFrame[Start & inRNA & weak_at_CCUCC]\n",
    "fasta = 'kpLogo/fasta/Start_weakSD.fasta'\n",
    "\n",
    "with open(fasta, 'w') as f_o:\n",
    "    for index in df_to_use.index:\n",
    "        if df_to_use.loc[index,'strand'] == '+':\n",
    "            ATG = df_to_use.loc[index,'ATG']\n",
    "            start = ATG-down_for_fasta-1\n",
    "            end = ATG+up_for_fasta-1\n",
    "            seq = plus_strand_sequence[start:end]\n",
    "            f_o.write('>'+str(ATG)+'\\n')\n",
    "            f_o.write(seq+'\\n')\n",
    "        if df_to_use.loc[index,'strand'] == '-':\n",
    "            ATG = df_to_use.loc[index,'ATG']\n",
    "            start = ATG-up_for_fasta\n",
    "            end = ATG+down_for_fasta\n",
    "            r_seq = plus_strand_sequence[start:end]\n",
    "            seq = reverse_complement(r_seq)\n",
    "            f_o.write('>'+str(ATG)+'\\n')\n",
    "            f_o.write(seq+'\\n')      "
   ]
  },
  {
   "cell_type": "code",
   "execution_count": 23,
   "metadata": {
    "collapsed": true
   },
   "outputs": [],
   "source": [
    "df_to_use = Positions_DataFrame[notStart & inRNA]\n",
    "fasta = 'kpLogo/fasta/Nonstart.fasta'\n",
    "\n",
    "with open(fasta, 'w') as f_o:\n",
    "    for index in df_to_use.index:\n",
    "        if df_to_use.loc[index,'strand'] == '+':\n",
    "            ATG = df_to_use.loc[index,'ATG']\n",
    "            start = ATG-down_for_fasta-1\n",
    "            end = ATG+up_for_fasta-1\n",
    "            seq = plus_strand_sequence[start:end]\n",
    "            f_o.write('>'+str(ATG)+'\\n')\n",
    "            f_o.write(seq+'\\n')\n",
    "        if df_to_use.loc[index,'strand'] == '-':\n",
    "            ATG = df_to_use.loc[index,'ATG']\n",
    "            start = ATG-up_for_fasta\n",
    "            end = ATG+down_for_fasta\n",
    "            r_seq = plus_strand_sequence[start:end]\n",
    "            seq = reverse_complement(r_seq)\n",
    "            f_o.write('>'+str(ATG)+'\\n')\n",
    "            f_o.write(seq+'\\n')      "
   ]
  },
  {
   "cell_type": "code",
   "execution_count": 24,
   "metadata": {},
   "outputs": [
    {
     "name": "stdout",
     "output_type": "stream",
     "text": [
      "^tools/kpLogo-1.1/bin/kpLogo kpLogo/fasta/Start_weakSD.fasta -bgfile kpLogo/fasta/Nonstart.fasta -o kpLogo/results/annoVSnonanno\n"
     ]
    },
    {
     "data": {
      "text/plain": [
       "0"
      ]
     },
     "execution_count": 24,
     "metadata": {},
     "output_type": "execute_result"
    }
   ],
   "source": [
    "kpLogo = '^tools/kpLogo-1.1/bin/kpLogo'\n",
    "\n",
    "positive = 'kpLogo/fasta/Start_weakSD.fasta'\n",
    "background = 'kpLogo/fasta/Nonstart.fasta'\n",
    "output = 'kpLogo/results/annoVSnonanno'\n",
    "\n",
    "import os\n",
    "command = '%s %s -bgfile %s -o %s' % (\n",
    "    kpLogo,\n",
    "    positive,\n",
    "    background,\n",
    "    output\n",
    "    )\n",
    "print command\n",
    "os.system(command)"
   ]
  },
  {
   "cell_type": "code",
   "execution_count": 31,
   "metadata": {},
   "outputs": [
    {
     "data": {
      "text/html": [
       "\n",
       "        <iframe\n",
       "            width=\"1000\"\n",
       "            height=\"300\"\n",
       "            src=\"kpLogo/results/annoVSnonanno.pdf\"\n",
       "            frameborder=\"0\"\n",
       "            allowfullscreen\n",
       "        ></iframe>\n",
       "        "
      ],
      "text/plain": [
       "<IPython.lib.display.IFrame at 0x7f8d9f054990>"
      ]
     },
     "execution_count": 31,
     "metadata": {},
     "output_type": "execute_result"
    }
   ],
   "source": [
    "from IPython.display import IFrame\n",
    "IFrame(output+'.pdf', width=1000, height=300)"
   ]
  },
  {
   "cell_type": "code",
   "execution_count": null,
   "metadata": {
    "collapsed": true
   },
   "outputs": [],
   "source": []
  },
  {
   "cell_type": "code",
   "execution_count": null,
   "metadata": {
    "collapsed": true
   },
   "outputs": [],
   "source": []
  },
  {
   "cell_type": "code",
   "execution_count": null,
   "metadata": {
    "collapsed": true
   },
   "outputs": [],
   "source": []
  },
  {
   "cell_type": "code",
   "execution_count": null,
   "metadata": {
    "collapsed": true
   },
   "outputs": [],
   "source": []
  },
  {
   "cell_type": "code",
   "execution_count": null,
   "metadata": {
    "collapsed": true
   },
   "outputs": [],
   "source": []
  },
  {
   "cell_type": "code",
   "execution_count": null,
   "metadata": {
    "collapsed": true
   },
   "outputs": [],
   "source": []
  },
  {
   "cell_type": "code",
   "execution_count": null,
   "metadata": {
    "collapsed": true
   },
   "outputs": [],
   "source": []
  },
  {
   "cell_type": "code",
   "execution_count": null,
   "metadata": {
    "collapsed": true
   },
   "outputs": [],
   "source": []
  },
  {
   "cell_type": "code",
   "execution_count": null,
   "metadata": {
    "collapsed": true
   },
   "outputs": [],
   "source": []
  },
  {
   "cell_type": "code",
   "execution_count": 4,
   "metadata": {
    "collapsed": true
   },
   "outputs": [],
   "source": [
    "def RCRPM_loading(RC,RPM,filename,endtype,densitypath):\n",
    "    with open(densitypath+filename+endtype+'_readcounts.pickle', 'rb') as f:\n",
    "        RC[filename]=pickle.load(f)\n",
    "    with open(densitypath+filename+endtype+'_rpm.pickle', 'rb') as f:\n",
    "        RPM[filename]=pickle.load(f)\n",
    "    #return [rcs,rpms]"
   ]
  },
  {
   "cell_type": "code",
   "execution_count": 5,
   "metadata": {},
   "outputs": [
    {
     "name": "stdout",
     "output_type": "stream",
     "text": [
      "2019-05-14 11:47:01.853711\n",
      "2019-05-14 11:47:30.544949\n"
     ]
    }
   ],
   "source": [
    "import multiprocessing\n",
    "import pickle\n",
    "import threading\n",
    "from datetime import datetime\n",
    "\n",
    "print datetime.now()\n",
    "\n",
    "#RC ={} somehow I need to do below to assign this dict to get the value evalutated from the RCRPM_loading\n",
    "#RPM = {} somehow I need to do below to assign this dict to get the value evalutated from the RCRPM_loading\n",
    "manager = multiprocessing.Manager()\n",
    "RC = manager.dict()\n",
    "RPM = manager.dict()\n",
    "\n",
    "jobs = []\n",
    "\n",
    "filenames = ['ks110ks83','ks117ks92']\n",
    "endtype = '_3map'\n",
    "densitypath = '/home/kazuki/^profilingdata/20181017_MS2/density/'\n",
    "for filename in filenames:\n",
    "    job = multiprocessing.Process(target=RCRPM_loading, args=(RC,RPM,filename,endtype,densitypath))\n",
    "    jobs.append(job)\n",
    "    job.start()\n",
    "\n",
    "filenames = ['ks120','ks121','ks122','ks123']\n",
    "endtype = '_3map'\n",
    "densitypath = '/home/kazuki/^profilingdata/20181207_MS2/density_tkEIGHT/'\n",
    "for filename in filenames:\n",
    "    job = multiprocessing.Process(target=RCRPM_loading, args=(RC,RPM,filename,endtype,densitypath))\n",
    "    jobs.append(job)\n",
    "    job.start()\n",
    "\n",
    "filenames = ['ks130']\n",
    "endtype = '_3map'\n",
    "densitypath = '/home/kazuki/^profilingdata/20181207_MS2/density/'\n",
    "for filename in filenames:\n",
    "    job = multiprocessing.Process(target=RCRPM_loading, args=(RC,RPM,filename,endtype,densitypath))\n",
    "    jobs.append(job)\n",
    "    job.start()\n",
    "    \n",
    "    \n",
    "filenames = ['ks170','ks171','ks172']\n",
    "endtype = '_3map'\n",
    "densitypath = '/home/kazuki/^profilingdata/20190503/density/'\n",
    "for filename in filenames:\n",
    "    job = multiprocessing.Process(target=RCRPM_loading, args=(RC,RPM,filename,endtype,densitypath))\n",
    "    jobs.append(job)\n",
    "    job.start()      \n",
    "    \n",
    "    \n",
    "[job.join() for job in jobs] # just to get the time by the below line\n",
    "\n",
    "print datetime.now() "
   ]
  },
  {
   "cell_type": "code",
   "execution_count": 8,
   "metadata": {
    "collapsed": true
   },
   "outputs": [],
   "source": [
    "def threshold(cut_off,readcountsf_plus, position, upstream_length,downstream_length):\n",
    "    if sum(readcountsf_plus[position-upstream_length:position+downstream_length])>=cut_off:\n",
    "        return 'yes'\n",
    "    else:\n",
    "        return 'no'\n",
    "    \n",
    "def peak_ratio(cut_off,readcounts,positions,upstream_length,downstream_length,peak_upstream,peak_downstream):\n",
    "    peaks = {}\n",
    "    peaks['+']={}\n",
    "    peaks['-']={}\n",
    "    \n",
    "    total_plus = 0\n",
    "    readcounts_plus = readcounts[0][readcounts[0].keys()[0]]\n",
    "    #rpm_plus = rpm[0][rpm[0].keys()[0]]\n",
    "    position_plus = positions['+']\n",
    "    for position in position_plus:\n",
    "        cut_off_result = threshold(cut_off,readcounts_plus,position,upstream_length,downstream_length)\n",
    "        if cut_off_result == 'yes':  \n",
    "            total_read = sum(readcounts_plus[position-upstream_length-1:position+downstream_length-1])\n",
    "            peak_read = sum(readcounts_plus[position-peak_upstream-1:position+peak_downstream-1])\n",
    "            if total_read!=0 and peak_read!=0:\n",
    "                total_plus+=1\n",
    "                total_average = float(total_read)/len(readcounts_plus[position-upstream_length-1:position+downstream_length-1])\n",
    "                peak_average = float(peak_read)/len(readcounts_plus[position-peak_upstream-1:position+peak_downstream-1])\n",
    "                if total_average !=0:\n",
    "                    peak_ratio = float(peak_average)/total_average\n",
    "                    if peak_ratio != 0:\n",
    "                        peaks['+'][position]=peak_ratio\n",
    "            \n",
    "    total_minus = 0\n",
    "    readcounts_minus = readcounts[1][readcounts[1].keys()[0]]\n",
    "    #rpm_minus = rpm[1][rpm[1].keys()[0]]\n",
    "    position_minus = positions['-']\n",
    "    for position in position_minus:\n",
    "        cut_off_result = threshold(cut_off,readcounts_minus,position,downstream_length,upstream_length)# opposite as minus       \n",
    "        if cut_off_result == 'yes':   \n",
    "            total_read = sum(readcounts_minus[position-downstream_length:position+upstream_length])\n",
    "            peak_read = sum(readcounts_minus[position-peak_downstream:position+peak_upstream])\n",
    "            if total_read!=0:\n",
    "                total_minus+=1\n",
    "                total_average = float(total_read)/len(readcounts_minus[position-downstream_length:position+upstream_length])\n",
    "                peak_average = float(peak_read)/len(readcounts_minus[position-peak_downstream:position+peak_upstream])\n",
    "                if total_average !=0:\n",
    "                    peak_ratio = float(peak_average)/total_average\n",
    "                    if peak_ratio != 0:\n",
    "                        peaks['-'][position]=peak_ratio\n",
    "\n",
    "    return peaks\n",
    "\n",
    "\n",
    "def get_position_dict(df):\n",
    "    df.reset_index(inplace=True)\n",
    "    position_dict = {}\n",
    "    position_dict['+']=[]\n",
    "    position_dict['-']=[]\n",
    "    for i in range(len(df)):\n",
    "        if df.loc[i,'strand'] == '+':\n",
    "            position_dict['+'].append(df.loc[i,'ATG'])\n",
    "        if df.loc[i,'strand'] == '-':\n",
    "            position_dict['-'].append(df.loc[i,'ATG'])\n",
    "    return position_dict\n",
    "\n",
    "\n",
    "def get_log2PeakScore(peaks):\n",
    "    FD=[]\n",
    "    for strand in peaks.keys():\n",
    "        FD = FD + peaks[strand].values()\n",
    "    print len(FD)\n",
    "    return np.log2(FD)\n",
    "\n"
   ]
  },
  {
   "cell_type": "markdown",
   "metadata": {},
   "source": [
    "# Actual analysis of libraries"
   ]
  },
  {
   "cell_type": "code",
   "execution_count": 9,
   "metadata": {
    "collapsed": true
   },
   "outputs": [],
   "source": [
    "def distribution_plotter(ax_here,data,palette,Violin_BoxSwarm):\n",
    "    if Violin_BoxSwarm == 0:\n",
    "        ax = sns.violinplot(data=data,\n",
    "                            palette=palette,\n",
    "                            linewidth=1,\n",
    "                            inner=None,\n",
    "                            oxprops = {'edgecolor': 'black'},\n",
    "                            whiskerprops={'color': 'black'},\n",
    "                            ax=ax_here)        \n",
    "    \n",
    "    if Violin_BoxSwarm == 1:\n",
    "        ax = sns.boxplot(data=data,\n",
    "                         showfliers=False,\n",
    "                         linewidth=3,\n",
    "                         palette=palette,\n",
    "                         capprops={'color': 'black', 'linewidth': 3},\n",
    "                         medianprops = {'color': 'black', 'linewidth': 3}, \n",
    "                         boxprops = {'edgecolor': 'black', 'linewidth': 3, 'facecolor': 'none',\"zorder\":10},\n",
    "                         whiskerprops={'color': 'black','linewidth':1, \"zorder\":10},\n",
    "                         ax=ax_here)\n",
    "        ax = sns.swarmplot(data=data,\n",
    "                           palette=palette,\n",
    "                           zorder=.5,\n",
    "                           alpha=0.8,\n",
    "                           ax=ax_here)\n",
    "        \n",
    "        \n",
    "    if Violin_BoxSwarm == 2:\n",
    "        ax = sns.violinplot(data=data,\n",
    "                            palette=palette,\n",
    "                            linewidth=2.5,\n",
    "                            facebolor = 'none',\n",
    "                            ax=ax_here)\n",
    "        ax = sns.swarmplot(data=data,\n",
    "                           palette=palette,\n",
    "                           zorder=.5,\n",
    "                           alpha=0.8,\n",
    "                           ax=ax_here)   \n",
    "        "
   ]
  },
  {
   "cell_type": "code",
   "execution_count": 10,
   "metadata": {
    "collapsed": true
   },
   "outputs": [],
   "source": [
    "threshold_setting = 10\n",
    "\n",
    "distance = 50\n",
    "upstream_length_setting = distance\n",
    "downstream_length_setting = distance\n",
    "\n",
    "peak_upstream = -3\n",
    "peak_downstream = 21"
   ]
  },
  {
   "cell_type": "markdown",
   "metadata": {},
   "source": [
    "# NON-start"
   ]
  },
  {
   "cell_type": "code",
   "execution_count": 11,
   "metadata": {
    "collapsed": true
   },
   "outputs": [],
   "source": [
    "df1 = Positions_DataFrame[notStart&inRNA]\n",
    "df2 = Positions_DataFrame[notStart&inRNA&strong_at_CCUCC]\n",
    "df3 = Positions_DataFrame[notStart&inRNA&strong_at_AGGGU]\n",
    "df4 = Positions_DataFrame[notStart&inRNA&strong_at_GGAGG]\n",
    "df5 = Positions_DataFrame[notStart&inRNA&strong_at_AAAAA]\n",
    "dfs = [df1,df2,df3,df4]"
   ]
  },
  {
   "cell_type": "code",
   "execution_count": 12,
   "metadata": {},
   "outputs": [
    {
     "name": "stdout",
     "output_type": "stream",
     "text": [
      "2892\n",
      "3773\n"
     ]
    },
    {
     "data": {
      "image/png": "[encoded data removed]",
      "text/plain": [
       "<Figure size 600x1000 with 1 Axes>"
      ]
     },
     "metadata": {},
     "output_type": "display_data"
    }
   ],
   "source": [
    "# https://stackoverflow.com/questions/51639481/specify-colors-above-and-below-median-on-violin-plot-in-seaborn-matplotlib\n",
    "# https://matplotlib.org/gallery/statistics/customized_violin.html\n",
    "\n",
    "fig, ax = plt.subplots()\n",
    "fig.set_dpi(500)\n",
    "fig.set_size_inches(1.2, 2)\n",
    "\n",
    "df = Positions_DataFrame[notStart&inRNA]\n",
    "libraries = ['ks170','ks110ks83']\n",
    "\n",
    "positions = get_position_dict(df)\n",
    "data = []\n",
    "median_list = []\n",
    "for library in libraries:\n",
    "    peaks=peak_ratio(threshold_setting,RC[library],positions,upstream_length_setting,downstream_length_setting,peak_upstream,peak_downstream)\n",
    "    FDs=get_log2PeakScore(peaks)\n",
    "    data.append(FDs)\n",
    "    median_list.append(np.median(FDs))\n",
    "\n",
    "result_dict = ax.violinplot(data, showextrema=False, showmedians=False,widths=0.8) \n",
    "\n",
    "for pc in result_dict['bodies']:\n",
    "    pc.set_facecolor('lightgrey')\n",
    "    pc.set_edgecolor('black')\n",
    "    pc.set_alpha(1)\n",
    "\n",
    "\n",
    "orig_violin = result_dict['bodies'][1]  # in this case, there is only one violin plot, hence [0]\n",
    "orig_vertices = orig_violin.get_paths()[0].vertices # extract the vertices coordinates from the Path object contained in the PolyCollection\n",
    "\n",
    "top = orig_vertices[orig_vertices[:,1]>=1.5]   # the vertices above the median\n",
    "bottom = orig_vertices[orig_vertices[:,1]<=1.5] # and below \n",
    "\n",
    "# create new PolyCollections, adjusting their appearance as desired\n",
    "topP = cl.PolyCollection([top])\n",
    "topP.set_facecolor('darkblue')\n",
    "topP.set_edgecolor('black')\n",
    "bottomP = cl.PolyCollection([bottom])\n",
    "bottomP.set_facecolor('cornflowerblue')\n",
    "bottomP.set_edgecolor('black')\n",
    "ax.add_collection(topP)\n",
    "ax.add_collection(bottomP)\n",
    "\n",
    "ax = sns.scatterplot(x=[1,2],y=median_list,color='white',zorder=10,s=10)\n",
    "ax.axhline(y=0,linewidth=1, color='dimgrey',linestyle='--')\n",
    "\n",
    "sns.despine()\n",
    "plt.xlim(0.5,2.5)\n",
    "plt.xticks([1,2],['WT','O-mut'])\n",
    "plt.ylim(-12,3.5)\n",
    "plt.yticks([-9,-6,-3,0,3])\n",
    "plt.ylabel('IS ($\\log_2$)')\n",
    "plt.tick_params(labelsize=7)\n",
    "\n",
    "#plt.savefig('reta_figure/ret_violin_nonstart_O.pdf', dpi=500, bbox_inches=\"tight\", pad_inches=0.0)"
   ]
  },
  {
   "cell_type": "markdown",
   "metadata": {},
   "source": [
    "# genes specifically increased on Non-start"
   ]
  },
  {
   "cell_type": "code",
   "execution_count": 28,
   "metadata": {
    "collapsed": true
   },
   "outputs": [],
   "source": [
    "def peak_ratio(cut_off,readcounts,positions,upstream_length,downstream_length,peak_upstream,peak_downstream):\n",
    "    peaks = {}\n",
    "    peaks['+']={}\n",
    "    peaks['-']={}\n",
    "    \n",
    "    total_plus = 0\n",
    "    readcounts_plus = readcounts[0][readcounts[0].keys()[0]]\n",
    "    #rpm_plus = rpm[0][rpm[0].keys()[0]]\n",
    "    position_plus = positions['+']\n",
    "    for position in position_plus:\n",
    "        cut_off_result = threshold(cut_off,readcounts_plus,position,upstream_length,downstream_length)\n",
    "        if cut_off_result == 'yes':  \n",
    "            total_read = sum(readcounts_plus[position-upstream_length-1:position+downstream_length-1])\n",
    "            peak_read = sum(readcounts_plus[position-peak_upstream-1:position+peak_downstream-1])\n",
    "            if total_read!=0 and peak_read!=0:\n",
    "                total_plus+=1\n",
    "                total_average = float(total_read)/len(readcounts_plus[position-upstream_length-1:position+downstream_length-1])\n",
    "                peak_average = float(peak_read)/len(readcounts_plus[position-peak_upstream-1:position+peak_downstream-1])\n",
    "                if total_average !=0:\n",
    "                    peak_ratio = float(peak_average)/total_average\n",
    "                    if peak_ratio != 0:\n",
    "                        peaks['+'][position]=peak_ratio\n",
    "            \n",
    "    total_minus = 0\n",
    "    readcounts_minus = readcounts[1][readcounts[1].keys()[0]]\n",
    "    #rpm_minus = rpm[1][rpm[1].keys()[0]]\n",
    "    position_minus = positions['-']\n",
    "    for position in position_minus:\n",
    "        cut_off_result = threshold(cut_off,readcounts_minus,position,downstream_length,upstream_length)# opposite as minus       \n",
    "        if cut_off_result == 'yes':   \n",
    "            total_read = sum(readcounts_minus[position-downstream_length:position+upstream_length])\n",
    "            peak_read = sum(readcounts_minus[position-peak_downstream:position+peak_upstream])\n",
    "            if total_read!=0:\n",
    "                total_minus+=1\n",
    "                total_average = float(total_read)/len(readcounts_minus[position-downstream_length:position+upstream_length])\n",
    "                peak_average = float(peak_read)/len(readcounts_minus[position-peak_downstream:position+peak_upstream])\n",
    "                if total_average !=0:\n",
    "                    peak_ratio = float(peak_average)/total_average\n",
    "                    if peak_ratio != 0:\n",
    "                        peaks['-'][position]=peak_ratio\n",
    "    \"\"\"\n",
    "    print sum(readcounts_plus[:])\n",
    "    print len(position_plus)\n",
    "    print total_plus\n",
    "    print len(peaks['+'])\n",
    "    print \n",
    "    print sum(readcounts_minus[:])\n",
    "    print len(position_minus)\n",
    "    print total_minus\n",
    "    print len(peaks['-'])\n",
    "    \"\"\"\n",
    "    return peaks"
   ]
  },
  {
   "cell_type": "code",
   "execution_count": 210,
   "metadata": {},
   "outputs": [
    {
     "name": "stdout",
     "output_type": "stream",
     "text": [
      "59\n",
      "72\n",
      "158\n",
      "202\n",
      "72\n",
      "112\n",
      "0\n",
      "0\n"
     ]
    }
   ],
   "source": [
    "\n",
    "distance = 50\n",
    "PeakScore_threshold = 1.5\n",
    "\n",
    "threshold_setting = 5\n",
    "peak_upstream = -3\n",
    "peak_downstream = 21\n",
    "upstream_length_setting = distance\n",
    "downstream_length_setting = distance\n",
    "graph_upstream = upstream_length_setting-25\n",
    "graph_downstream = upstream_length_setting+50\n",
    "\n",
    "########################################################################\n",
    "\n",
    "#files = ['ks117ks92']\n",
    "#files = ['ks120','ks121','ks122','ks123']\n",
    "files = ['ks170','ks110ks83','ks171','ks172']\n",
    "\n",
    "rcs=[]\n",
    "for f_n in files:\n",
    "    rcs.append(RC[f_n])\n",
    "    \n",
    "\"\"\"\n",
    "df1 = Positions_DataFrame[notStart&inRNA]\n",
    "dfs = [df1]\n",
    "\n",
    "\n",
    "df1 = Positions_DataFrame[notStart&inRNA]\n",
    "df2 = Positions_DataFrame[notStart&inRNA]\n",
    "df3 = Positions_DataFrame[notStart&inRNA]\n",
    "df4 = Positions_DataFrame[notStart&inRNA]\n",
    "dfs = [df1,df2,df3,df4]\n",
    "\"\"\"\n",
    "\n",
    "df1 = Positions_DataFrame[notStart&inRNA&strong_at_CCUCC]\n",
    "df2 = Positions_DataFrame[notStart&inRNA&strong_at_AGGGU]\n",
    "df3 = Positions_DataFrame[notStart&inRNA&strong_at_GGAGG]\n",
    "df4 = Positions_DataFrame[notStart&inRNA&strong_at_AAAAA]\n",
    "dfs = [df1,df2,df3,df4]\n",
    "\n",
    "\n",
    "high_group={}\n",
    "for f,rc,df in zip(files,rcs,dfs):\n",
    "    df.reset_index(inplace=True)\n",
    "    position_dict = {}\n",
    "    position_dict['+']=[]\n",
    "    position_dict['-']=[]\n",
    "    for i in range(len(df)):\n",
    "        if df.loc[i,'strand'] == '+':\n",
    "            position_dict['+'].append(df.loc[i,'ATG'])\n",
    "        if df.loc[i,'strand'] == '-':\n",
    "            position_dict['-'].append(df.loc[i,'ATG'])\n",
    "    positions = position_dict\n",
    "\n",
    "    ##########\n",
    "    readcounts = rc\n",
    "    ##########\n",
    "    peaks=peak_ratio(threshold_setting,readcounts,positions,upstream_length_setting,downstream_length_setting,peak_upstream,peak_downstream)\n",
    "\n",
    "    high_group[f]={}\n",
    "    for strand in peaks.keys():\n",
    "        high_group[f][strand]={}\n",
    "        for position in peaks[strand].keys():\n",
    "            if np.log2(peaks[strand][position]) > PeakScore_threshold:\n",
    "                high_group[f][strand][position] = peaks[strand][position]\n",
    "\n",
    "\n",
    "    for key in high_group[f].keys():\n",
    "        print len(high_group[f][key])\n",
    "        \n",
    "        \n",
    "plus_strand = Positions_DataFrame['strand'] == '+'\n",
    "minus_strand = Positions_DataFrame['strand'] == '-' \n",
    "\n",
    "\n",
    "\n",
    "\n",
    "\"\"\"\n",
    "WT_high_group_plus = Positions_DataFrame['ATG'].isin(high_group['ks117ks92']['+'])\n",
    "WT_high_group_minus = Positions_DataFrame['ATG'].isin(high_group['ks117ks92']['-'])\n",
    "WT_normal_group_plus = Positions_DataFrame['ATG'].isin(high_group['ks117ks92']['+']) == False\n",
    "WT_normal_group_minus = Positions_DataFrame['ATG'].isin(high_group['ks117ks92']['-']) == False\n",
    "\n",
    "\n",
    "\n",
    "\n",
    "\n",
    "WT_high_group_plus = Positions_DataFrame['ATG'].isin(high_group['ks120']['+'])\n",
    "WT_high_group_minus = Positions_DataFrame['ATG'].isin(high_group['ks120']['-'])\n",
    "WT_normal_group_plus = Positions_DataFrame['ATG'].isin(high_group['ks120']['+']) == False\n",
    "WT_normal_group_minus = Positions_DataFrame['ATG'].isin(high_group['ks120']['-']) == False\n",
    "\n",
    "O_high_group_plus = Positions_DataFrame['ATG'].isin(high_group['ks121']['+'])\n",
    "O_high_group_minus = Positions_DataFrame['ATG'].isin(high_group['ks121']['-'])\n",
    "O_normal_group_plus = Positions_DataFrame['ATG'].isin(high_group['ks121']['+']) == False\n",
    "O_normal_group_minus = Positions_DataFrame['ATG'].isin(high_group['ks121']['-']) == False\n",
    "\n",
    "S_high_group_plus = Positions_DataFrame['ATG'].isin(high_group['ks122']['+'])\n",
    "S_high_group_minus = Positions_DataFrame['ATG'].isin(high_group['ks122']['-'])\n",
    "S_normal_group_plus = Positions_DataFrame['ATG'].isin(high_group['ks122']['+']) == False\n",
    "S_normal_group_minus = Positions_DataFrame['ATG'].isin(high_group['ks122']['-']) == False\n",
    "\n",
    "A_high_group_plus = Positions_DataFrame['ATG'].isin(high_group['ks123']['+'])\n",
    "A_high_group_minus = Positions_DataFrame['ATG'].isin(high_group['ks123']['-'])\n",
    "A_normal_group_plus = Positions_DataFrame['ATG'].isin(high_group['ks123']['+']) == False\n",
    "A_normal_group_minus = Positions_DataFrame['ATG'].isin(high_group['ks123']['-']) == False\n",
    "\n",
    "\n",
    "\n",
    "\n",
    "WT_high_group_plus = Positions_DataFrame['ATG'].isin(high_group['ks170']['+'])\n",
    "WT_high_group_minus = Positions_DataFrame['ATG'].isin(high_group['ks170']['-'])\n",
    "WT_normal_group_plus = Positions_DataFrame['ATG'].isin(high_group['ks170']['+']) == False\n",
    "WT_normal_group_minus = Positions_DataFrame['ATG'].isin(high_group['ks170']['-']) == False\n",
    "\n",
    "O_high_group_plus = Positions_DataFrame['ATG'].isin(high_group['ks110ks83']['+'])\n",
    "O_high_group_minus = Positions_DataFrame['ATG'].isin(high_group['ks110ks83']['-'])\n",
    "O_normal_group_plus = Positions_DataFrame['ATG'].isin(high_group['ks110ks83']['+']) == False\n",
    "O_normal_group_minus = Positions_DataFrame['ATG'].isin(high_group['ks110ks83']['-']) == False\n",
    "\n",
    "S_high_group_plus = Positions_DataFrame['ATG'].isin(high_group['ks171']['+'])\n",
    "S_high_group_minus = Positions_DataFrame['ATG'].isin(high_group['ks171']['-'])\n",
    "S_normal_group_plus = Positions_DataFrame['ATG'].isin(high_group['ks171']['+']) == False\n",
    "S_normal_group_minus = Positions_DataFrame['ATG'].isin(high_group['ks171']['-']) == False\n",
    "\n",
    "A_high_group_plus = Positions_DataFrame['ATG'].isin(high_group['ks172']['+'])\n",
    "A_high_group_minus = Positions_DataFrame['ATG'].isin(high_group['ks172']['-'])\n",
    "A_normal_group_plus = Positions_DataFrame['ATG'].isin(high_group['ks172']['+']) == False\n",
    "A_normal_group_minus = Positions_DataFrame['ATG'].isin(high_group['ks172']['-']) == False\n",
    "\"\"\"\n",
    "\n",
    "\n",
    "\"\"\"\n",
    "WT_high_group_plus = Positions_DataFrame[strong_at_CCUCC]['ATG'].isin(high_group['ks120']['+'])\n",
    "WT_high_group_minus = Positions_DataFrame[strong_at_CCUCC]['ATG'].isin(high_group['ks120']['-'])\n",
    "WT_normal_group_plus = Positions_DataFrame[strong_at_CCUCC]['ATG'].isin(high_group['ks120']['+']) == False\n",
    "WT_normal_group_minus = Positions_DataFrame[strong_at_CCUCC]['ATG'].isin(high_group['ks120']['-']) == False\n",
    "\n",
    "O_high_group_plus = Positions_DataFrame[strong_at_AGGGU]['ATG'].isin(high_group['ks121']['+'])\n",
    "O_high_group_minus = Positions_DataFrame[strong_at_AGGGU]['ATG'].isin(high_group['ks121']['-'])\n",
    "O_normal_group_plus = Positions_DataFrame[strong_at_AGGGU]['ATG'].isin(high_group['ks121']['+']) == False\n",
    "O_normal_group_minus = Positions_DataFrame[strong_at_AGGGU]['ATG'].isin(high_group['ks121']['-']) == False\n",
    "\n",
    "S_high_group_plus = Positions_DataFrame[strong_at_GGAGG]['ATG'].isin(high_group['ks122']['+'])\n",
    "S_high_group_minus = Positions_DataFrame[strong_at_GGAGG]['ATG'].isin(high_group['ks122']['-'])\n",
    "S_normal_group_plus = Positions_DataFrame[strong_at_GGAGG]['ATG'].isin(high_group['ks122']['+']) == False\n",
    "S_normal_group_minus = Positions_DataFrame[strong_at_GGAGG]['ATG'].isin(high_group['ks122']['-']) == False\n",
    "\n",
    "A_high_group_plus = Positions_DataFrame[strong_at_AAAAA]['ATG'].isin(high_group['ks123']['+'])\n",
    "A_high_group_minus = Positions_DataFrame[strong_at_AAAAA]['ATG'].isin(high_group['ks123']['-'])\n",
    "A_normal_group_plus = Positions_DataFrame[strong_at_AAAAA]['ATG'].isin(high_group['ks123']['+']) == False\n",
    "A_normal_group_minus = Positions_DataFrame[strong_at_AAAAA]['ATG'].isin(high_group['ks123']['-']) == False\n",
    "\"\"\"\n",
    "\n",
    "\n",
    "\n",
    "WT_high_group_plus = Positions_DataFrame[strong_at_CCUCC]['ATG'].isin(high_group['ks170']['+'])\n",
    "WT_high_group_minus = Positions_DataFrame[strong_at_CCUCC]['ATG'].isin(high_group['ks170']['-'])\n",
    "WT_normal_group_plus = Positions_DataFrame[strong_at_CCUCC]['ATG'].isin(high_group['ks170']['+']) == False\n",
    "WT_normal_group_minus = Positions_DataFrame[strong_at_CCUCC]['ATG'].isin(high_group['ks170']['-']) == False\n",
    "\n",
    "O_high_group_plus = Positions_DataFrame[strong_at_AGGGU]['ATG'].isin(high_group['ks110ks83']['+'])\n",
    "O_high_group_minus = Positions_DataFrame[strong_at_AGGGU]['ATG'].isin(high_group['ks110ks83']['-'])\n",
    "O_normal_group_plus = Positions_DataFrame[strong_at_AGGGU]['ATG'].isin(high_group['ks110ks83']['+']) == False\n",
    "O_normal_group_minus = Positions_DataFrame[strong_at_AGGGU]['ATG'].isin(high_group['ks110ks83']['-']) == False\n",
    "\n",
    "S_high_group_plus = Positions_DataFrame[strong_at_GGAGG]['ATG'].isin(high_group['ks171']['+'])\n",
    "S_high_group_minus = Positions_DataFrame[strong_at_GGAGG]['ATG'].isin(high_group['ks171']['-'])\n",
    "S_normal_group_plus = Positions_DataFrame[strong_at_GGAGG]['ATG'].isin(high_group['ks171']['+']) == False\n",
    "S_normal_group_minus = Positions_DataFrame[strong_at_GGAGG]['ATG'].isin(high_group['ks171']['-']) == False\n",
    "\n",
    "A_high_group_plus = Positions_DataFrame[strong_at_AAAAA]['ATG'].isin(high_group['ks172']['+'])\n",
    "A_high_group_minus = Positions_DataFrame[strong_at_AAAAA]['ATG'].isin(high_group['ks172']['-'])\n",
    "A_normal_group_plus = Positions_DataFrame[strong_at_AAAAA]['ATG'].isin(high_group['ks172']['+']) == False\n",
    "A_normal_group_minus = Positions_DataFrame[strong_at_AAAAA]['ATG'].isin(high_group['ks172']['-']) == False\n"
   ]
  },
  {
   "cell_type": "code",
   "execution_count": 116,
   "metadata": {},
   "outputs": [
    {
     "name": "stdout",
     "output_type": "stream",
     "text": [
      "59\n",
      "72\n",
      "69\n",
      "84\n",
      "158\n",
      "202\n",
      "132\n",
      "152\n",
      "72\n",
      "112\n",
      "128\n",
      "128\n",
      "0\n",
      "0\n",
      "0\n",
      "0\n"
     ]
    }
   ],
   "source": [
    "\"\"\"\n",
    "distance = 50\n",
    "PeakScore_threshold = 1.5\n",
    "PeakScore_threshold_lower = 0\n",
    "\n",
    "threshold_setting = 5\n",
    "peak_upstream = -3\n",
    "peak_downstream = 21\n",
    "upstream_length_setting = distance\n",
    "downstream_length_setting = distance\n",
    "graph_upstream = upstream_length_setting-25\n",
    "graph_downstream = upstream_length_setting+50\n",
    "\n",
    "########################################################################\n",
    "\n",
    "#files = ['ks120','ks121','ks122','ks123']\n",
    "files = ['ks170','ks110ks83','ks171','ks172']\n",
    "\n",
    "rcs=[]\n",
    "for f_n in files:\n",
    "    rcs.append(RC[f_n])\n",
    "    \n",
    "\n",
    "df1 = Positions_DataFrame[notStart&inRNA&strong_at_CCUCC]\n",
    "df2 = Positions_DataFrame[notStart&inRNA&strong_at_AGGGU]\n",
    "df3 = Positions_DataFrame[notStart&inRNA&strong_at_GGAGG]\n",
    "df4 = Positions_DataFrame[notStart&inRNA&strong_at_AAAAA]\n",
    "dfs = [df1,df2,df3,df4]\n",
    "\n",
    "high_group={}\n",
    "low_group={}\n",
    "for f,rc,df in zip(files,rcs,dfs):\n",
    "    df.reset_index(inplace=True)\n",
    "    position_dict = {}\n",
    "    position_dict['+']=[]\n",
    "    position_dict['-']=[]\n",
    "    for i in range(len(df)):\n",
    "        if df.loc[i,'strand'] == '+':\n",
    "            position_dict['+'].append(df.loc[i,'ATG'])\n",
    "        if df.loc[i,'strand'] == '-':\n",
    "            position_dict['-'].append(df.loc[i,'ATG'])\n",
    "    positions = position_dict\n",
    "\n",
    "    ##########\n",
    "    readcounts = rc\n",
    "    ##########\n",
    "    peaks=peak_ratio(threshold_setting,readcounts,positions,upstream_length_setting,downstream_length_setting,peak_upstream,peak_downstream)\n",
    "\n",
    "    high_group[f]={}\n",
    "    for strand in peaks.keys():\n",
    "        high_group[f][strand]={}\n",
    "        for position in peaks[strand].keys():\n",
    "            if np.log2(peaks[strand][position]) > PeakScore_threshold:\n",
    "                high_group[f][strand][position] = peaks[strand][position]\n",
    "    for key in high_group[f].keys():\n",
    "        print len(high_group[f][key])\n",
    "\n",
    "        \n",
    "    low_group[f]={}\n",
    "    for strand in peaks.keys():\n",
    "        low_group[f][strand]={}\n",
    "        for position in peaks[strand].keys():\n",
    "            if np.log2(peaks[strand][position]) < PeakScore_threshold_lower:\n",
    "                low_group[f][strand][position] = peaks[strand][position]\n",
    "    for key in low_group[f].keys():\n",
    "        print len(low_group[f][key])        \n",
    "        \n",
    "        \n",
    "    \n",
    "plus_strand = Positions_DataFrame['strand'] == '+'\n",
    "minus_strand = Positions_DataFrame['strand'] == '-' \n",
    "\n",
    "WT_high_group_plus = Positions_DataFrame['ATG'].isin(high_group['ks170']['+'])\n",
    "WT_high_group_minus = Positions_DataFrame['ATG'].isin(high_group['ks170']['-'])\n",
    "WT_normal_group_plus = Positions_DataFrame['ATG'].isin(low_group['ks170']['+']) \n",
    "WT_normal_group_minus = Positions_DataFrame['ATG'].isin(low_group['ks170']['-']) \n",
    "\n",
    "O_high_group_plus = Positions_DataFrame['ATG'].isin(high_group['ks110ks83']['+'])\n",
    "O_high_group_minus = Positions_DataFrame['ATG'].isin(high_group['ks110ks83']['-'])\n",
    "O_normal_group_plus = Positions_DataFrame['ATG'].isin(low_group['ks110ks83']['+']) \n",
    "O_normal_group_minus = Positions_DataFrame['ATG'].isin(low_group['ks110ks83']['-']) \n",
    "\n",
    "S_high_group_plus = Positions_DataFrame['ATG'].isin(high_group['ks171']['+'])\n",
    "S_high_group_minus = Positions_DataFrame['ATG'].isin(high_group['ks171']['-'])\n",
    "S_normal_group_plus = Positions_DataFrame['ATG'].isin(low_group['ks171']['+']) \n",
    "S_normal_group_minus = Positions_DataFrame['ATG'].isin(low_group['ks171']['-']) \n",
    "\n",
    "A_high_group_plus = Positions_DataFrame['ATG'].isin(high_group['ks172']['+'])\n",
    "A_high_group_minus = Positions_DataFrame['ATG'].isin(high_group['ks172']['-'])\n",
    "A_normal_group_plus = Positions_DataFrame['ATG'].isin(low_group['ks172']['+']) \n",
    "A_normal_group_minus = Positions_DataFrame['ATG'].isin(low_group['ks172']['-']) \n",
    "\"\"\""
   ]
  },
  {
   "cell_type": "code",
   "execution_count": 163,
   "metadata": {
    "collapsed": true
   },
   "outputs": [],
   "source": [
    "def df_selector(Positions_DataFrame,aSD,which):\n",
    "    if aSD == 'WT':\n",
    "        df = Positions_DataFrame[notStart&inRNA]\n",
    "        df1_1=df[WT_high_group_plus & plus_strand]\n",
    "        df1_2=df[WT_high_group_minus & minus_strand]\n",
    "        df1 = pd.concat([df1_1,df1_2])\n",
    "        df2_1=df[WT_normal_group_plus & plus_strand]\n",
    "        df2_2=df[WT_normal_group_minus & minus_strand]\n",
    "        df2 = pd.concat([df2_1,df2_2])\n",
    "        dfs = [df1,df2]\n",
    "    if aSD == 'MT-O':\n",
    "        df = Positions_DataFrame[notStart&inRNA]\n",
    "        df1_1=df[O_high_group_plus & plus_strand]\n",
    "        df1_2=df[O_high_group_minus & minus_strand]\n",
    "        df1 = pd.concat([df1_1,df1_2])\n",
    "        df2_1=df[O_normal_group_plus & plus_strand]\n",
    "        df2_2=df[O_normal_group_minus & minus_strand]\n",
    "        df2 = pd.concat([df2_1,df2_2])\n",
    "        dfs = [df1,df2]\n",
    "    if aSD == 'MT-S':\n",
    "        df = Positions_DataFrame[notStart&inRNA]\n",
    "        df1_1=df[S_high_group_plus & plus_strand]\n",
    "        df1_2=df[S_high_group_minus & minus_strand]\n",
    "        df1 = pd.concat([df1_1,df1_2])\n",
    "        df2_1=df[S_normal_group_plus & plus_strand]\n",
    "        df2_2=df[S_normal_group_minus & minus_strand]\n",
    "        df2 = pd.concat([df2_1,df2_2])\n",
    "        dfs = [df1,df2]\n",
    "    if aSD == 'MT-A':\n",
    "        df = Positions_DataFrame[notStart&inRNA]\n",
    "        df1_1=df[A_high_group_plus & plus_strand]\n",
    "        df1_2=df[A_high_group_minus & minus_strand]\n",
    "        df1 = pd.concat([df1_1,df1_2])\n",
    "        df2_1=df[A_normal_group_plus & plus_strand]\n",
    "        df2_2=df[A_normal_group_minus & minus_strand]\n",
    "        df2 = pd.concat([df2_1,df2_2])\n",
    "        dfs = [df1,df2]\n",
    "        \n",
    "    return dfs[which]"
   ]
  },
  {
   "cell_type": "code",
   "execution_count": 211,
   "metadata": {
    "collapsed": true
   },
   "outputs": [],
   "source": [
    "down_for_fasta = 30\n",
    "up_for_fasta = 30\n",
    "df_to_use = df_selector(Positions_DataFrame,'WT',0)\n",
    "fasta = 'A_rich_fasta/Cribo_high.fasta'\n",
    "\n",
    "with open(fasta, 'w') as f_o:\n",
    "    for index in df_to_use.index:\n",
    "        if df_to_use.loc[index,'strand'] == '+':\n",
    "            ATG = df_to_use.loc[index,'ATG']\n",
    "            start = ATG-down_for_fasta-1\n",
    "            end = ATG+up_for_fasta-1\n",
    "            seq = plus_strand_sequence[start:end]\n",
    "            f_o.write('>'+str(ATG)+'\\n')\n",
    "            f_o.write(seq+'\\n')\n",
    "        if df_to_use.loc[index,'strand'] == '-':\n",
    "            ATG = df_to_use.loc[index,'ATG']\n",
    "            start = ATG-up_for_fasta\n",
    "            end = ATG+down_for_fasta\n",
    "            r_seq = plus_strand_sequence[start:end]\n",
    "            seq = reverse_complement(r_seq)\n",
    "            f_o.write('>'+str(ATG)+'\\n')\n",
    "            f_o.write(seq+'\\n')      "
   ]
  },
  {
   "cell_type": "code",
   "execution_count": 212,
   "metadata": {
    "collapsed": true
   },
   "outputs": [],
   "source": [
    "down_for_fasta = 30\n",
    "up_for_fasta = 30\n",
    "df_to_use = df_selector(Positions_DataFrame,'WT',1)\n",
    "fasta = 'A_rich_fasta/Cribo_low.fasta'\n",
    "\n",
    "with open(fasta, 'w') as f_o:\n",
    "    for index in df_to_use.index:\n",
    "        if df_to_use.loc[index,'strand'] == '+':\n",
    "            ATG = df_to_use.loc[index,'ATG']\n",
    "            start = ATG-down_for_fasta-1\n",
    "            end = ATG+up_for_fasta-1\n",
    "            seq = plus_strand_sequence[start:end]\n",
    "            f_o.write('>'+str(ATG)+'\\n')\n",
    "            f_o.write(seq+'\\n')\n",
    "        if df_to_use.loc[index,'strand'] == '-':\n",
    "            ATG = df_to_use.loc[index,'ATG']\n",
    "            start = ATG-up_for_fasta\n",
    "            end = ATG+down_for_fasta\n",
    "            r_seq = plus_strand_sequence[start:end]\n",
    "            seq = reverse_complement(r_seq)\n",
    "            f_o.write('>'+str(ATG)+'\\n')\n",
    "            f_o.write(seq+'\\n')      "
   ]
  },
  {
   "cell_type": "code",
   "execution_count": null,
   "metadata": {
    "collapsed": true
   },
   "outputs": [],
   "source": [
    "trap"
   ]
  },
  {
   "cell_type": "code",
   "execution_count": 213,
   "metadata": {
    "collapsed": true
   },
   "outputs": [],
   "source": [
    "down_for_fasta = 30\n",
    "up_for_fasta = 30\n",
    "df_to_use = df_selector(Positions_DataFrame,'MT-O',0)\n",
    "fasta = 'A_rich_fasta/Oribo_high.fasta'\n",
    "\n",
    "with open(fasta, 'w') as f_o:\n",
    "    for index in df_to_use.index:\n",
    "        if df_to_use.loc[index,'strand'] == '+':\n",
    "            ATG = df_to_use.loc[index,'ATG']\n",
    "            start = ATG-down_for_fasta-1\n",
    "            end = ATG+up_for_fasta-1\n",
    "            seq = plus_strand_sequence[start:end]\n",
    "            f_o.write('>'+str(ATG)+'\\n')\n",
    "            f_o.write(seq+'\\n')\n",
    "        if df_to_use.loc[index,'strand'] == '-':\n",
    "            ATG = df_to_use.loc[index,'ATG']\n",
    "            start = ATG-up_for_fasta\n",
    "            end = ATG+down_for_fasta\n",
    "            r_seq = plus_strand_sequence[start:end]\n",
    "            seq = reverse_complement(r_seq)\n",
    "            f_o.write('>'+str(ATG)+'\\n')\n",
    "            f_o.write(seq+'\\n')      "
   ]
  },
  {
   "cell_type": "code",
   "execution_count": 214,
   "metadata": {
    "collapsed": true
   },
   "outputs": [],
   "source": [
    "down_for_fasta = 30\n",
    "up_for_fasta = 30\n",
    "df_to_use = df_selector(Positions_DataFrame,'MT-O',1)\n",
    "fasta = 'A_rich_fasta/Oribo_low.fasta'\n",
    "\n",
    "with open(fasta, 'w') as f_o:\n",
    "    for index in df_to_use.index:\n",
    "        if df_to_use.loc[index,'strand'] == '+':\n",
    "            ATG = df_to_use.loc[index,'ATG']\n",
    "            start = ATG-down_for_fasta-1\n",
    "            end = ATG+up_for_fasta-1\n",
    "            seq = plus_strand_sequence[start:end]\n",
    "            f_o.write('>'+str(ATG)+'\\n')\n",
    "            f_o.write(seq+'\\n')\n",
    "        if df_to_use.loc[index,'strand'] == '-':\n",
    "            ATG = df_to_use.loc[index,'ATG']\n",
    "            start = ATG-up_for_fasta\n",
    "            end = ATG+down_for_fasta\n",
    "            r_seq = plus_strand_sequence[start:end]\n",
    "            seq = reverse_complement(r_seq)\n",
    "            f_o.write('>'+str(ATG)+'\\n')\n",
    "            f_o.write(seq+'\\n')      "
   ]
  },
  {
   "cell_type": "code",
   "execution_count": 215,
   "metadata": {
    "collapsed": true
   },
   "outputs": [],
   "source": [
    "down_for_fasta = 30\n",
    "up_for_fasta = 30\n",
    "df_to_use = df_selector(Positions_DataFrame,'MT-S',0)\n",
    "fasta = 'A_rich_fasta/Sribo_high.fasta'\n",
    "\n",
    "with open(fasta, 'w') as f_o:\n",
    "    for index in df_to_use.index:\n",
    "        if df_to_use.loc[index,'strand'] == '+':\n",
    "            ATG = df_to_use.loc[index,'ATG']\n",
    "            start = ATG-down_for_fasta-1\n",
    "            end = ATG+up_for_fasta-1\n",
    "            seq = plus_strand_sequence[start:end]\n",
    "            f_o.write('>'+str(ATG)+'\\n')\n",
    "            f_o.write(seq+'\\n')\n",
    "        if df_to_use.loc[index,'strand'] == '-':\n",
    "            ATG = df_to_use.loc[index,'ATG']\n",
    "            start = ATG-up_for_fasta\n",
    "            end = ATG+down_for_fasta\n",
    "            r_seq = plus_strand_sequence[start:end]\n",
    "            seq = reverse_complement(r_seq)\n",
    "            f_o.write('>'+str(ATG)+'\\n')\n",
    "            f_o.write(seq+'\\n')      "
   ]
  },
  {
   "cell_type": "code",
   "execution_count": 216,
   "metadata": {
    "collapsed": true
   },
   "outputs": [],
   "source": [
    "down_for_fasta = 30\n",
    "up_for_fasta = 30\n",
    "df_to_use = df_selector(Positions_DataFrame,'MT-S',1)\n",
    "fasta = 'A_rich_fasta/Sribo_low.fasta'\n",
    "\n",
    "with open(fasta, 'w') as f_o:\n",
    "    for index in df_to_use.index:\n",
    "        if df_to_use.loc[index,'strand'] == '+':\n",
    "            ATG = df_to_use.loc[index,'ATG']\n",
    "            start = ATG-down_for_fasta-1\n",
    "            end = ATG+up_for_fasta-1\n",
    "            seq = plus_strand_sequence[start:end]\n",
    "            f_o.write('>'+str(ATG)+'\\n')\n",
    "            f_o.write(seq+'\\n')\n",
    "        if df_to_use.loc[index,'strand'] == '-':\n",
    "            ATG = df_to_use.loc[index,'ATG']\n",
    "            start = ATG-up_for_fasta\n",
    "            end = ATG+down_for_fasta\n",
    "            r_seq = plus_strand_sequence[start:end]\n",
    "            seq = reverse_complement(r_seq)\n",
    "            f_o.write('>'+str(ATG)+'\\n')\n",
    "            f_o.write(seq+'\\n')      "
   ]
  },
  {
   "cell_type": "code",
   "execution_count": 217,
   "metadata": {
    "collapsed": true
   },
   "outputs": [],
   "source": [
    "down_for_fasta = 30\n",
    "up_for_fasta = 30\n",
    "df_to_use = df_selector(Positions_DataFrame,'MT-A',0)\n",
    "fasta = 'A_rich_fasta/Aribo_high.fasta'\n",
    "\n",
    "with open(fasta, 'w') as f_o:\n",
    "    for index in df_to_use.index:\n",
    "        if df_to_use.loc[index,'strand'] == '+':\n",
    "            ATG = df_to_use.loc[index,'ATG']\n",
    "            start = ATG-down_for_fasta-1\n",
    "            end = ATG+up_for_fasta-1\n",
    "            seq = plus_strand_sequence[start:end]\n",
    "            f_o.write('>'+str(ATG)+'\\n')\n",
    "            f_o.write(seq+'\\n')\n",
    "        if df_to_use.loc[index,'strand'] == '-':\n",
    "            ATG = df_to_use.loc[index,'ATG']\n",
    "            start = ATG-up_for_fasta\n",
    "            end = ATG+down_for_fasta\n",
    "            r_seq = plus_strand_sequence[start:end]\n",
    "            seq = reverse_complement(r_seq)\n",
    "            f_o.write('>'+str(ATG)+'\\n')\n",
    "            f_o.write(seq+'\\n')      "
   ]
  },
  {
   "cell_type": "code",
   "execution_count": 218,
   "metadata": {
    "collapsed": true
   },
   "outputs": [],
   "source": [
    "down_for_fasta = 30\n",
    "up_for_fasta = 30\n",
    "df_to_use = df_selector(Positions_DataFrame,'MT-A',1)\n",
    "fasta = 'A_rich_fasta/Aribo_low.fasta'\n",
    "\n",
    "with open(fasta, 'w') as f_o:\n",
    "    for index in df_to_use.index:\n",
    "        if df_to_use.loc[index,'strand'] == '+':\n",
    "            ATG = df_to_use.loc[index,'ATG']\n",
    "            start = ATG-down_for_fasta-1\n",
    "            end = ATG+up_for_fasta-1\n",
    "            seq = plus_strand_sequence[start:end]\n",
    "            f_o.write('>'+str(ATG)+'\\n')\n",
    "            f_o.write(seq+'\\n')\n",
    "        if df_to_use.loc[index,'strand'] == '-':\n",
    "            ATG = df_to_use.loc[index,'ATG']\n",
    "            start = ATG-up_for_fasta\n",
    "            end = ATG+down_for_fasta\n",
    "            r_seq = plus_strand_sequence[start:end]\n",
    "            seq = reverse_complement(r_seq)\n",
    "            f_o.write('>'+str(ATG)+'\\n')\n",
    "            f_o.write(seq+'\\n')      "
   ]
  },
  {
   "cell_type": "code",
   "execution_count": 219,
   "metadata": {},
   "outputs": [
    {
     "name": "stdout",
     "output_type": "stream",
     "text": [
      "cat C_rich_fasta/Cribo_high.fasta O_rich_fasta/Oribo_high.fasta S_rich_fasta/Sribo_high.fasta A_rich_fasta/Aribo_high.fasta > A_rich_fasta/all_high.fasta\n"
     ]
    },
    {
     "data": {
      "text/plain": [
       "256"
      ]
     },
     "execution_count": 219,
     "metadata": {},
     "output_type": "execute_result"
    }
   ],
   "source": [
    "import os\n",
    "C_fiel = 'C_rich_fasta/Cribo_high.fasta'\n",
    "O_fiel = 'O_rich_fasta/Oribo_high.fasta'\n",
    "S_fiel = 'S_rich_fasta/Sribo_high.fasta'\n",
    "A_fiel = 'A_rich_fasta/Aribo_high.fasta'\n",
    "output_file = 'A_rich_fasta/all_high.fasta'\n",
    "\n",
    "command = 'cat %s %s %s %s > %s' %(\n",
    "    C_fiel, \n",
    "    O_fiel, \n",
    "    S_fiel, \n",
    "    A_fiel, \n",
    "    output_file \n",
    "    )\n",
    "print command\n",
    "os.system(command)   "
   ]
  },
  {
   "cell_type": "code",
   "execution_count": 220,
   "metadata": {},
   "outputs": [
    {
     "name": "stdout",
     "output_type": "stream",
     "text": [
      "cat C_rich_fasta/Cribo_low.fasta O_rich_fasta/Oribo_low.fasta S_rich_fasta/Sribo_low.fasta A_rich_fasta/Aribo_low.fasta > A_rich_fasta/all_low.fasta\n"
     ]
    },
    {
     "data": {
      "text/plain": [
       "256"
      ]
     },
     "execution_count": 220,
     "metadata": {},
     "output_type": "execute_result"
    }
   ],
   "source": [
    "import os\n",
    "C_fiel = 'C_rich_fasta/Cribo_low.fasta'\n",
    "O_fiel = 'O_rich_fasta/Oribo_low.fasta'\n",
    "S_fiel = 'S_rich_fasta/Sribo_low.fasta'\n",
    "A_fiel = 'A_rich_fasta/Aribo_low.fasta'\n",
    "output_file = 'A_rich_fasta/all_low.fasta'\n",
    "\n",
    "command = 'cat %s %s %s %s > %s' %(\n",
    "    C_fiel, \n",
    "    O_fiel, \n",
    "    S_fiel, \n",
    "    A_fiel, \n",
    "    output_file \n",
    "    )\n",
    "print command\n",
    "os.system(command)  "
   ]
  },
  {
   "cell_type": "code",
   "execution_count": null,
   "metadata": {
    "collapsed": true
   },
   "outputs": [],
   "source": []
  },
  {
   "cell_type": "code",
   "execution_count": null,
   "metadata": {
    "collapsed": true
   },
   "outputs": [],
   "source": []
  },
  {
   "cell_type": "code",
   "execution_count": null,
   "metadata": {
    "collapsed": true
   },
   "outputs": [],
   "source": []
  },
  {
   "cell_type": "code",
   "execution_count": null,
   "metadata": {
    "collapsed": true
   },
   "outputs": [],
   "source": []
  },
  {
   "cell_type": "code",
   "execution_count": null,
   "metadata": {
    "collapsed": true
   },
   "outputs": [],
   "source": []
  },
  {
   "cell_type": "code",
   "execution_count": null,
   "metadata": {
    "collapsed": true
   },
   "outputs": [],
   "source": []
  },
  {
   "cell_type": "code",
   "execution_count": null,
   "metadata": {
    "collapsed": true
   },
   "outputs": [],
   "source": []
  },
  {
   "cell_type": "code",
   "execution_count": null,
   "metadata": {
    "collapsed": true
   },
   "outputs": [],
   "source": []
  }
 ],
 "metadata": {
  "kernelspec": {
   "display_name": "Python 2",
   "language": "python",
   "name": "python2"
  },
  "language_info": {
   "codemirror_mode": {
    "name": "ipython",
    "version": 2
   },
   "file_extension": ".py",
   "mimetype": "text/x-python",
   "name": "python",
   "nbconvert_exporter": "python",
   "pygments_lexer": "ipython2",
   "version": "2.7.15"
  }
 },
 "nbformat": 4,
 "nbformat_minor": 2
}
