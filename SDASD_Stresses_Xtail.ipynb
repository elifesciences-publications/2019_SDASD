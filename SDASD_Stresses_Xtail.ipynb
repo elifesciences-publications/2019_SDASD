{
 "cells": [
  {
   "cell_type": "code",
   "execution_count": 1,
   "metadata": {
    "scrolled": true
   },
   "outputs": [
    {
     "name": "stderr",
     "output_type": "stream",
     "text": [
      "Loading required package: DESeq2\n",
      "Loading required package: S4Vectors\n",
      "Loading required package: stats4\n",
      "Loading required package: BiocGenerics\n",
      "Loading required package: parallel\n",
      "\n",
      "Attaching package: ‘BiocGenerics’\n",
      "\n",
      "The following objects are masked from ‘package:parallel’:\n",
      "\n",
      "    clusterApply, clusterApplyLB, clusterCall, clusterEvalQ,\n",
      "    clusterExport, clusterMap, parApply, parCapply, parLapply,\n",
      "    parLapplyLB, parRapply, parSapply, parSapplyLB\n",
      "\n",
      "The following objects are masked from ‘package:stats’:\n",
      "\n",
      "    IQR, mad, sd, var, xtabs\n",
      "\n",
      "The following objects are masked from ‘package:base’:\n",
      "\n",
      "    anyDuplicated, append, as.data.frame, cbind, colMeans, colnames,\n",
      "    colSums, do.call, duplicated, eval, evalq, Filter, Find, get, grep,\n",
      "    grepl, intersect, is.unsorted, lapply, lengths, Map, mapply, match,\n",
      "    mget, order, paste, pmax, pmax.int, pmin, pmin.int, Position, rank,\n",
      "    rbind, Reduce, rowMeans, rownames, rowSums, sapply, setdiff, sort,\n",
      "    table, tapply, union, unique, unsplit, which, which.max, which.min\n",
      "\n",
      "\n",
      "Attaching package: ‘S4Vectors’\n",
      "\n",
      "The following object is masked from ‘package:base’:\n",
      "\n",
      "    expand.grid\n",
      "\n",
      "Loading required package: IRanges\n",
      "Loading required package: GenomicRanges\n",
      "Loading required package: GenomeInfoDb\n",
      "Loading required package: SummarizedExperiment\n",
      "Loading required package: Biobase\n",
      "Welcome to Bioconductor\n",
      "\n",
      "    Vignettes contain introductory material; view with\n",
      "    'browseVignettes()'. To cite Bioconductor, see\n",
      "    'citation(\"Biobase\")', and for packages 'citation(\"pkgname\")'.\n",
      "\n",
      "Loading required package: DelayedArray\n",
      "Loading required package: matrixStats\n",
      "\n",
      "Attaching package: ‘matrixStats’\n",
      "\n",
      "The following objects are masked from ‘package:Biobase’:\n",
      "\n",
      "    anyMissing, rowMedians\n",
      "\n",
      "\n",
      "Attaching package: ‘DelayedArray’\n",
      "\n",
      "The following objects are masked from ‘package:matrixStats’:\n",
      "\n",
      "    colMaxs, colMins, colRanges, rowMaxs, rowMins, rowRanges\n",
      "\n",
      "The following object is masked from ‘package:base’:\n",
      "\n",
      "    apply\n",
      "\n"
     ]
    }
   ],
   "source": [
    "library(xtail)"
   ]
  },
  {
   "cell_type": "markdown",
   "metadata": {},
   "source": [
    "# Cold-shock"
   ]
  },
  {
   "cell_type": "code",
   "execution_count": 2,
   "metadata": {
    "collapsed": true
   },
   "outputs": [],
   "source": [
    "NRP_control1 <- 'ks60_reads'\n",
    "NRP_control2 <- 'ks175_reads'\n",
    "NRP_cold1 <- 'ks119ks99_reads'\n",
    "NRP_cold2 <- 'ks168_reads'\n",
    "\n",
    "mrna <- read.csv(\"SDfigure.csv\",row.names='gene')[ ,c(NRP_control1,NRP_control2,NRP_cold1,NRP_cold2)]\n",
    "colnames(mrna) <- c(\"control1\", \"control2\",\"cold1\",'cold2') "
   ]
  },
  {
   "cell_type": "code",
   "execution_count": 3,
   "metadata": {
    "collapsed": true
   },
   "outputs": [],
   "source": [
    "MS2RP_control1 <- 'ks64ks178_reads'\n",
    "MS2RP_control2 <- 'ks151_reads'\n",
    "MS2RP_cold1 <- 'ks179ks116ks90_reads'\n",
    "MS2RP_cold2 <- 'ks176ks159_reads'\n",
    "\n",
    "rpf <- read.csv(\"SDfigure.csv\",row.names='gene')[ ,c(MS2RP_control1,MS2RP_control2,MS2RP_cold1,MS2RP_cold2)]\n",
    "colnames(rpf) <- c(\"control1\", \"control2\",\"cold1\",'cold2') "
   ]
  },
  {
   "cell_type": "code",
   "execution_count": 4,
   "metadata": {
    "scrolled": true
   },
   "outputs": [
    {
     "name": "stderr",
     "output_type": "stream",
     "text": [
      "Calculating the library size factors\n",
      "1. Estimate the log2 fold change in mrna\n",
      "converting counts to integer mode\n",
      "it appears that the last variable in the design formula, 'condition',\n",
      "  has a factor level, 'control', which is not the reference level. we recommend\n",
      "  to use factor(...,levels=...) or relevel() to set this as the reference level\n",
      "  before proceeding. for more information, please see the 'Note on factor levels'\n",
      "  in vignette('DESeq2').\n",
      "2. Estimate the log2 fold change in rpf\n",
      "converting counts to integer mode\n",
      "it appears that the last variable in the design formula, 'condition',\n",
      "  has a factor level, 'control', which is not the reference level. we recommend\n",
      "  to use factor(...,levels=...) or relevel() to set this as the reference level\n",
      "  before proceeding. for more information, please see the 'Note on factor levels'\n",
      "  in vignette('DESeq2').\n",
      "3. Estimate the difference between two log2 fold changes\n",
      "4. Estimate the log2 ratio in first condition\n",
      "converting counts to integer mode\n",
      "5. Estimate the log2 ratio in second condition\n",
      "converting counts to integer mode\n",
      "6. Estimate the difference between two log2 ratios\n",
      "Number of the log2FC and log2R used in determining the final p-value\n",
      " log2FC: 2449\n",
      " log2R: 1680\n"
     ]
    }
   ],
   "source": [
    "condition <- c(\"control\", \"control\",\"cold\",'cold') \n",
    "test.results <- xtail(mrna,rpf,condition,bins=1000)"
   ]
  },
  {
   "cell_type": "code",
   "execution_count": 5,
   "metadata": {},
   "outputs": [
    {
     "name": "stdout",
     "output_type": "stream",
     "text": [
      "\n",
      "The total number of gene is: 4139 \n",
      "Number of the log2FC and log2R used in determining the final p-value:\n",
      "     log2FC: 2449 \n",
      "     log2R : 1680 \n",
      "\n",
      "adjusted pvalue <  0.1 \n",
      "     log2FC_TE > 0 (up)  : 255 \n",
      "     log2FC_TE < 0 (down): 489 \n",
      "\n"
     ]
    }
   ],
   "source": [
    "summary(test.results)"
   ]
  },
  {
   "cell_type": "code",
   "execution_count": 6,
   "metadata": {
    "collapsed": true
   },
   "outputs": [],
   "source": [
    "test.tab <- resultsTable(test.results)\n",
    "write.csv(test.tab,\"xtail_cold.csv\",quote=F)"
   ]
  },
  {
   "cell_type": "markdown",
   "metadata": {
    "collapsed": true
   },
   "source": [
    "# Stationary phase"
   ]
  },
  {
   "cell_type": "code",
   "execution_count": 12,
   "metadata": {
    "collapsed": true
   },
   "outputs": [],
   "source": [
    "# stationary\n",
    "\n",
    "NRP_control1 <- 'ks60_reads'\n",
    "NRP_control2 <- 'ks175_reads'\n",
    "NRP_stationary1 <- 'ks180ks169_reads'\n",
    "NRP_stationary2 <- 'ks174_reads'\n",
    "\n",
    "mrna <- read.csv(\"SDfigure.csv\", row.names='gene')[ ,c(NRP_control1,NRP_control2,NRP_stationary1,NRP_stationary2)]\n",
    "colnames(mrna) <- c(\"control1\", \"control2\",\"stationary1\",'stationary2') "
   ]
  },
  {
   "cell_type": "code",
   "execution_count": 13,
   "metadata": {
    "collapsed": true
   },
   "outputs": [],
   "source": [
    "MS2RP_control1 <- 'ks64ks178_reads'\n",
    "MS2RP_control2 <- 'ks151_reads'\n",
    "MS2RP_stationary1 <- 'ks181ks160_reads'\n",
    "MS2RP_stationary2 <- 'ks173_reads'\n",
    "\n",
    "rpf <- read.csv(\"SDfigure.csv\",row.names='gene')[ ,c(MS2RP_control1,MS2RP_control2,MS2RP_stationary1,MS2RP_stationary2)]\n",
    "colnames(rpf) <- c(\"control1\", \"control2\",\"stationary1\",'stationary2') "
   ]
  },
  {
   "cell_type": "code",
   "execution_count": 14,
   "metadata": {},
   "outputs": [
    {
     "name": "stderr",
     "output_type": "stream",
     "text": [
      "Calculating the library size factors\n",
      "1. Estimate the log2 fold change in mrna\n",
      "converting counts to integer mode\n",
      "2. Estimate the log2 fold change in rpf\n",
      "converting counts to integer mode\n",
      "3. Estimate the difference between two log2 fold changes\n",
      "4. Estimate the log2 ratio in first condition\n",
      "converting counts to integer mode\n",
      "5. Estimate the log2 ratio in second condition\n",
      "converting counts to integer mode\n",
      "6. Estimate the difference between two log2 ratios\n",
      "Number of the log2FC and log2R used in determining the final p-value\n",
      " log2FC: 2259\n",
      " log2R: 1763\n"
     ]
    }
   ],
   "source": [
    "condition <- c(\"control\", \"control\",\"stationary\",'stationary') \n",
    "test.results <- xtail(mrna,rpf,condition,bins=1000)"
   ]
  },
  {
   "cell_type": "code",
   "execution_count": 15,
   "metadata": {},
   "outputs": [
    {
     "name": "stdout",
     "output_type": "stream",
     "text": [
      "\n",
      "The total number of gene is: 4028 \n",
      "Number of the log2FC and log2R used in determining the final p-value:\n",
      "     log2FC: 2259 \n",
      "     log2R : 1763 \n",
      "\n",
      "adjusted pvalue <  0.1 \n",
      "     log2FC_TE > 0 (up)  : 409 \n",
      "     log2FC_TE < 0 (down): 679 \n",
      "\n"
     ]
    }
   ],
   "source": [
    "summary(test.results)"
   ]
  },
  {
   "cell_type": "code",
   "execution_count": 16,
   "metadata": {
    "collapsed": true
   },
   "outputs": [],
   "source": [
    "test.tab <- resultsTable(test.results)\n",
    "write.csv(test.tab,\"xtail_stationary.csv\",quote=F)"
   ]
  },
  {
   "cell_type": "code",
   "execution_count": null,
   "metadata": {
    "collapsed": true
   },
   "outputs": [],
   "source": []
  }
 ],
 "metadata": {
  "kernelspec": {
   "display_name": "R",
   "language": "R",
   "name": "ir"
  },
  "language_info": {
   "codemirror_mode": "r",
   "file_extension": ".r",
   "mimetype": "text/x-r-source",
   "name": "R",
   "pygments_lexer": "r",
   "version": "3.4.4"
  }
 },
 "nbformat": 4,
 "nbformat_minor": 2
}
