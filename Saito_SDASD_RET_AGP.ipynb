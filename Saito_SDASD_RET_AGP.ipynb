{
 "cells": [
  {
   "cell_type": "code",
   "execution_count": 1,
   "metadata": {
    "collapsed": true
   },
   "outputs": [],
   "source": [
    "import warnings\n",
    "warnings.filterwarnings('ignore')"
   ]
  },
  {
   "cell_type": "code",
   "execution_count": 2,
   "metadata": {
    "collapsed": true
   },
   "outputs": [],
   "source": [
    "import pickle\n",
    "import numpy as np\n",
    "from pandas import Series, DataFrame\n",
    "import pandas as pd\n",
    "import matplotlib.pyplot as plt\n",
    "import matplotlib as mpl\n",
    "from matplotlib import mlab\n",
    "import seaborn as sns\n",
    "%matplotlib inline\n",
    "\n",
    "mpl.rcParams['xtick.direction'] = 'out'\n",
    "mpl.rcParams['ytick.direction'] = 'out'"
   ]
  },
  {
   "cell_type": "code",
   "execution_count": 3,
   "metadata": {
    "collapsed": true
   },
   "outputs": [],
   "source": [
    "def get_position_dict(df):\n",
    "    df.reset_index(inplace=True)\n",
    "    position_dict = {}\n",
    "    position_dict['+']=[]\n",
    "    position_dict['-']=[]\n",
    "    for i in range(len(df)):\n",
    "        if df.loc[i,'strand'] == '+':\n",
    "            position_dict['+'].append(df.loc[i,'ATG'])\n",
    "        if df.loc[i,'strand'] == '-':\n",
    "            position_dict['-'].append(df.loc[i,'ATG'])\n",
    "    return position_dict"
   ]
  },
  {
   "cell_type": "code",
   "execution_count": 4,
   "metadata": {
    "collapsed": true
   },
   "outputs": [],
   "source": [
    "def threshold(cut_off,readcountsf_plus, position, upstream_length,downstream_length):\n",
    "    if sum(readcountsf_plus[position-upstream_length:position+downstream_length])>=cut_off:\n",
    "        return 'yes'\n",
    "    else:\n",
    "        return 'no'\n",
    "\n",
    "def each_gene_averagegene(rpm, position, upstream_length, downstream_length):\n",
    "    each_averagegene=[0 for x in range(0,(upstream_length+downstream_length))]\n",
    "    countlist = rpm[position-upstream_length-1:position+downstream_length-1]\n",
    "    totcounts = sum(countlist)\n",
    "    if totcounts!=0:\n",
    "        i=0\n",
    "        while i < len(countlist): \n",
    "            each_averagegene[i]+=countlist[i]/totcounts \n",
    "            i+=1\n",
    "    return each_averagegene\n",
    "\n",
    "def each_gene_averagegene_minus(rpm, position, upstream_length, downstream_length):\n",
    "    each_averagegene=[0 for x in range(0,(upstream_length+downstream_length))]\n",
    "    reverse_countlist = rpm[position-downstream_length:position+upstream_length]\n",
    "    countlist = reverse_countlist[::-1]\n",
    "    totcounts = sum(countlist)\n",
    "    if totcounts!=0:\n",
    "        i=0\n",
    "        while i < len(countlist): \n",
    "            each_averagegene[i]+=countlist[i]/totcounts \n",
    "            i+=1\n",
    "    return each_averagegene\n",
    "\n",
    "def wrap_genes_GEN_averagegene(cut_off,readcounts,rpm,positions,upstream_length,downstream_length):\n",
    "    AGP_data=[]\n",
    "    \n",
    "    readcounts_plus = readcounts[0][readcounts[0].keys()[0]]\n",
    "    rpm_plus = rpm[0][rpm[0].keys()[0]]\n",
    "    position_plus = positions['+']\n",
    "    for position in position_plus:\n",
    "        cut_off_result = threshold(cut_off,readcounts_plus,position,upstream_length,downstream_length)\n",
    "        if cut_off_result == 'yes':         \n",
    "            EachGeneAveragegene=each_gene_averagegene(rpm_plus,position,upstream_length,downstream_length)\n",
    "            AGP_data.append(EachGeneAveragegene)\n",
    "    \n",
    "    readcounts_minus = readcounts[1][readcounts[1].keys()[0]]\n",
    "    rpm_minus = rpm[1][rpm[1].keys()[0]]\n",
    "    position_minus = positions['-']        \n",
    "    for position in position_minus:\n",
    "        cut_off_result = threshold(cut_off,readcounts_minus,position,downstream_length,upstream_length) # opposite as minus\n",
    "        if cut_off_result == 'yes':         \n",
    "            EachGeneAveragegene=each_gene_averagegene_minus(rpm_minus,position,upstream_length,downstream_length)\n",
    "            AGP_data.append(EachGeneAveragegene)\n",
    "    \n",
    "    AGP_df=DataFrame(AGP_data)\n",
    "    AGP_df.loc['average']=AGP_df.mean(axis=0)\n",
    "    return AGP_df"
   ]
  },
  {
   "cell_type": "code",
   "execution_count": 5,
   "metadata": {
    "collapsed": true
   },
   "outputs": [],
   "source": [
    "def AGP_plotter(graph_downstream,graph_upstream,average_df,tick_distance,color):\n",
    "    print len(average_df)\n",
    "    x=np.arange(graph_downstream-graph_upstream)\n",
    "    y=average_df.loc['average'][graph_upstream:graph_downstream]\n",
    "    plt.plot(x,y, color=color,linewidth = 2)\n",
    "    plt.xticks(np.arange(min(x), max(x)+1, tick_distance))"
   ]
  },
  {
   "cell_type": "code",
   "execution_count": 6,
   "metadata": {
    "collapsed": true
   },
   "outputs": [],
   "source": [
    "def RCRPM_loading(RC,RPM,filename,endtype,densitypath):\n",
    "    with open(densitypath+filename+endtype+'_readcounts.pickle', 'rb') as f:\n",
    "        RC[filename]=pickle.load(f)\n",
    "    with open(densitypath+filename+endtype+'_rpm.pickle', 'rb') as f:\n",
    "        RPM[filename]=pickle.load(f)\n",
    "    #return [rcs,rpms]"
   ]
  },
  {
   "cell_type": "code",
   "execution_count": 7,
   "metadata": {},
   "outputs": [
    {
     "name": "stdout",
     "output_type": "stream",
     "text": [
      "2019-07-20 16:12:16.954665\n",
      "2019-07-20 16:12:40.982256\n"
     ]
    }
   ],
   "source": [
    "import multiprocessing\n",
    "import pickle\n",
    "import threading\n",
    "from datetime import datetime\n",
    "\n",
    "print datetime.now()\n",
    "\n",
    "#RC ={} somehow I need to do below to assign this dict to get the value evalutated from the RCRPM_loading\n",
    "#RPM = {} somehow I need to do below to assign this dict to get the value evalutated from the RCRPM_loading\n",
    "manager = multiprocessing.Manager()\n",
    "RC = manager.dict()\n",
    "RPM = manager.dict()\n",
    "\n",
    "jobs = []\n",
    "\n",
    "filenames = ['ks170','ks171','ks172','ks182ks110ks83']\n",
    "endtype = '_3map'\n",
    "densitypath = '/home/kazuki/^profilingdata/20190503/density_V_options_2/'\n",
    "for filename in filenames:\n",
    "    job = multiprocessing.Process(target=RCRPM_loading, args=(RC,RPM,filename,endtype,densitypath))\n",
    "    jobs.append(job)\n",
    "    job.start()       \n",
    "    \n",
    "[job.join() for job in jobs] # just to get the time by the below line\n",
    "\n",
    "print datetime.now()    "
   ]
  },
  {
   "cell_type": "markdown",
   "metadata": {},
   "source": [
    "# Genome positions of AUGs"
   ]
  },
  {
   "cell_type": "code",
   "execution_count": 8,
   "metadata": {
    "collapsed": true
   },
   "outputs": [],
   "source": [
    "outputfile2 = '/home/kazuki/^data_analysis/^Ecoli_Genome/Positions_ATG_InRNA.csv'\n",
    "Positions_DataFrame = pd.read_csv(outputfile2)\n",
    "Positions_DataFrame = Positions_DataFrame.loc[:,~Positions_DataFrame.columns.str.contains('^Unnamed')]\n",
    "\n",
    "Start = Positions_DataFrame['At_start'].notnull()\n",
    "notStart = Positions_DataFrame['At_start'].isnull()\n",
    "\n",
    "inRNA = Positions_DataFrame['In_RNA']=='yes'\n",
    "not_inRNA = Positions_DataFrame['In_RNA'].isnull()"
   ]
  },
  {
   "cell_type": "markdown",
   "metadata": {},
   "source": [
    "# Thresh0ld and range"
   ]
  },
  {
   "cell_type": "code",
   "execution_count": 9,
   "metadata": {
    "collapsed": true
   },
   "outputs": [],
   "source": [
    "threshold_setting = 10\n",
    "upstream_length_setting = 50\n",
    "downstream_length_setting = 50\n",
    "graph_upstream = upstream_length_setting-25\n",
    "graph_downstream = upstream_length_setting+50\n",
    "tick_distance=25"
   ]
  },
  {
   "cell_type": "markdown",
   "metadata": {},
   "source": [
    "# Annotated AUG"
   ]
  },
  {
   "cell_type": "code",
   "execution_count": 10,
   "metadata": {},
   "outputs": [
    {
     "name": "stdout",
     "output_type": "stream",
     "text": [
      "778\n",
      "1261\n"
     ]
    },
    {
     "data": {
      "text/plain": [
       "<matplotlib.text.Text at 0x7f4430147f90>"
      ]
     },
     "execution_count": 10,
     "metadata": {},
     "output_type": "execute_result"
    },
    {
     "data": {
      "image/png": "[encoded data removed]",
      "text/plain": [
       "<matplotlib.figure.Figure at 0x7f443cb98990>"
      ]
     },
     "metadata": {},
     "output_type": "display_data"
    }
   ],
   "source": [
    "fig, ax = plt.subplots()\n",
    "#fig.set_dpi(500)\n",
    "fig.set_size_inches(4, 3)\n",
    "\n",
    "positions = get_position_dict(Positions_DataFrame[Start&inRNA])\n",
    "\n",
    "libraries = ['ks170','ks182ks110ks83']\n",
    "colors = ['dimgrey','cornflowerblue']\n",
    "\n",
    "for library,color in zip(libraries,colors):\n",
    "    average_df=wrap_genes_GEN_averagegene(threshold_setting,RC[library],RPM[library],positions,upstream_length_setting,downstream_length_setting)\n",
    "    AGP_plotter(graph_downstream,graph_upstream,average_df,tick_distance,color)\n",
    "    \n",
    "    \n",
    "ax.xaxis.set_ticks_position('bottom')\n",
    "ax.yaxis.set_ticks_position('left')\n",
    "sns.despine()\n",
    "\n",
    "plt.xticks([0,25,50],['-25','0','25'])\n",
    "plt.ylim(0,0.25)\n",
    "plt.yticks([0,0.1,0.2])\n",
    "plt.tick_params(labelsize=12)\n",
    "plt.ylabel('Average ribosome occupancy', fontsize=10)\n",
    "#plt.savefig('fig_reta_AGPviolin/reta_start_Omut.pdf', dpi=500, bbox_inches=\"tight\", pad_inches=0.05)"
   ]
  },
  {
   "cell_type": "code",
   "execution_count": 11,
   "metadata": {},
   "outputs": [
    {
     "name": "stdout",
     "output_type": "stream",
     "text": [
      "778\n",
      "634\n"
     ]
    },
    {
     "data": {
      "text/plain": [
       "<matplotlib.text.Text at 0x7f441c5e6bd0>"
      ]
     },
     "execution_count": 11,
     "metadata": {},
     "output_type": "execute_result"
    },
    {
     "data": {
      "image/png": "[encoded data removed]",
      "text/plain": [
       "<matplotlib.figure.Figure at 0x7f441d934550>"
      ]
     },
     "metadata": {},
     "output_type": "display_data"
    }
   ],
   "source": [
    "fig, ax = plt.subplots()\n",
    "#fig.set_dpi(500)\n",
    "fig.set_size_inches(4, 3)\n",
    "\n",
    "positions = get_position_dict(Positions_DataFrame[Start&inRNA])\n",
    "\n",
    "libraries = ['ks170','ks171']\n",
    "colors = ['dimgrey','tomato']\n",
    "\n",
    "for library,color in zip(libraries,colors):\n",
    "    average_df=wrap_genes_GEN_averagegene(threshold_setting,RC[library],RPM[library],positions,upstream_length_setting,downstream_length_setting)\n",
    "    AGP_plotter(graph_downstream,graph_upstream,average_df,tick_distance,color)\n",
    "    \n",
    "ax.xaxis.set_ticks_position('bottom')\n",
    "ax.yaxis.set_ticks_position('left')\n",
    "sns.despine()\n",
    "\n",
    "plt.xticks([0,25,50],['-25','0','25'])\n",
    "plt.ylim(0,0.25)\n",
    "plt.yticks([0,0.1,0.2])\n",
    "plt.tick_params(labelsize=12)\n",
    "plt.ylabel('Average ribosome occupancy', fontsize=10)\n",
    "#plt.savefig('fig_reta_AGPviolin/reta_start_Smut.pdf', dpi=500, bbox_inches=\"tight\", pad_inches=0.05)"
   ]
  },
  {
   "cell_type": "code",
   "execution_count": 12,
   "metadata": {},
   "outputs": [
    {
     "name": "stdout",
     "output_type": "stream",
     "text": [
      "778\n",
      "476\n"
     ]
    },
    {
     "data": {
      "text/plain": [
       "<matplotlib.text.Text at 0x7f441c51f4d0>"
      ]
     },
     "execution_count": 12,
     "metadata": {},
     "output_type": "execute_result"
    },
    {
     "data": {
      "image/png": "[encoded data removed]",
      "text/plain": [
       "<matplotlib.figure.Figure at 0x7f441c57f6d0>"
      ]
     },
     "metadata": {},
     "output_type": "display_data"
    }
   ],
   "source": [
    "fig, ax = plt.subplots()\n",
    "#fig.set_dpi(500)\n",
    "fig.set_size_inches(4, 3)\n",
    "\n",
    "positions = get_position_dict(Positions_DataFrame[Start&inRNA])\n",
    "\n",
    "libraries = ['ks170','ks172']\n",
    "colors = ['dimgrey','forestgreen']\n",
    "\n",
    "for library,color in zip(libraries,colors):\n",
    "    average_df=wrap_genes_GEN_averagegene(threshold_setting,RC[library],RPM[library],positions,upstream_length_setting,downstream_length_setting)\n",
    "    AGP_plotter(graph_downstream,graph_upstream,average_df,tick_distance,color)\n",
    "    \n",
    "ax.xaxis.set_ticks_position('bottom')\n",
    "ax.yaxis.set_ticks_position('left')\n",
    "sns.despine()\n",
    "\n",
    "plt.xticks([0,25,50],['-25','0','25'])\n",
    "plt.ylim(0,0.25)\n",
    "plt.yticks([0,0.1,0.2])\n",
    "plt.tick_params(labelsize=12)\n",
    "plt.ylabel('Average ribosome occupancy', fontsize=10)\n",
    "#plt.savefig('fig_reta_AGPviolin/reta_start_Amut.pdf', dpi=500, bbox_inches=\"tight\", pad_inches=0.05)"
   ]
  },
  {
   "cell_type": "markdown",
   "metadata": {},
   "source": [
    "# NON-annotated AUG"
   ]
  },
  {
   "cell_type": "code",
   "execution_count": 13,
   "metadata": {},
   "outputs": [
    {
     "name": "stdout",
     "output_type": "stream",
     "text": [
      "4903\n",
      "14372\n"
     ]
    },
    {
     "data": {
      "text/plain": [
       "<matplotlib.text.Text at 0x7f441c4a6c50>"
      ]
     },
     "execution_count": 13,
     "metadata": {},
     "output_type": "execute_result"
    },
    {
     "data": {
      "image/png": "[encoded data removed]",
      "text/plain": [
       "<matplotlib.figure.Figure at 0x7f441c525750>"
      ]
     },
     "metadata": {},
     "output_type": "display_data"
    }
   ],
   "source": [
    "fig, ax = plt.subplots()\n",
    "#fig.set_dpi(500)\n",
    "fig.set_size_inches(4, 3)\n",
    "\n",
    "positions = get_position_dict(Positions_DataFrame[notStart&inRNA])\n",
    "\n",
    "libraries = ['ks170','ks182ks110ks83']\n",
    "colors = ['dimgrey','cornflowerblue']\n",
    "\n",
    "for library,color in zip(libraries,colors):\n",
    "    average_df=wrap_genes_GEN_averagegene(threshold_setting,RC[library],RPM[library],positions,upstream_length_setting,downstream_length_setting)\n",
    "    AGP_plotter(graph_downstream,graph_upstream,average_df,tick_distance,color)\n",
    "    \n",
    "ax.xaxis.set_ticks_position('bottom')\n",
    "ax.yaxis.set_ticks_position('left')\n",
    "sns.despine()\n",
    "\n",
    "plt.xticks([0,25,50],['-25','0','25'])\n",
    "plt.ylim(0,0.25)\n",
    "plt.yticks([0,0.1,0.2])\n",
    "plt.tick_params(labelsize=12)\n",
    "plt.ylabel('Average ribosome occupancy', fontsize=10)\n",
    "#plt.savefig('fig_reta_AGPviolin/reta_nonstart_Omut.pdf', dpi=500, bbox_inches=\"tight\", pad_inches=0.05)"
   ]
  },
  {
   "cell_type": "code",
   "execution_count": 14,
   "metadata": {},
   "outputs": [
    {
     "name": "stdout",
     "output_type": "stream",
     "text": [
      "4903\n",
      "5868\n"
     ]
    },
    {
     "data": {
      "text/plain": [
       "<matplotlib.text.Text at 0x7f441c48fdd0>"
      ]
     },
     "execution_count": 14,
     "metadata": {},
     "output_type": "execute_result"
    },
    {
     "data": {
      "image/png": "[encoded data removed]",
      "text/plain": [
       "<matplotlib.figure.Figure at 0x7f441c4a6490>"
      ]
     },
     "metadata": {},
     "output_type": "display_data"
    }
   ],
   "source": [
    "fig, ax = plt.subplots()\n",
    "#fig.set_dpi(500)\n",
    "fig.set_size_inches(4, 3)\n",
    "\n",
    "positions = get_position_dict(Positions_DataFrame[notStart&inRNA])\n",
    "\n",
    "libraries = ['ks170','ks171']\n",
    "colors = ['dimgrey','tomato']\n",
    "\n",
    "for library,color in zip(libraries,colors):\n",
    "    average_df=wrap_genes_GEN_averagegene(threshold_setting,RC[library],RPM[library],positions,upstream_length_setting,downstream_length_setting)\n",
    "    AGP_plotter(graph_downstream,graph_upstream,average_df,tick_distance,color)\n",
    "    \n",
    "ax.xaxis.set_ticks_position('bottom')\n",
    "ax.yaxis.set_ticks_position('left')\n",
    "sns.despine()\n",
    "\n",
    "plt.xticks([0,25,50],['-25','0','25'])\n",
    "plt.ylim(0,0.25)\n",
    "plt.yticks([0,0.1,0.2])\n",
    "plt.tick_params(labelsize=12) \n",
    "plt.ylabel('Average ribosome occupancy', fontsize=10)\n",
    "#plt.savefig('fig_reta_AGPviolin/reta_nonstart_Smut.pdf', dpi=500, bbox_inches=\"tight\", pad_inches=0.05)"
   ]
  },
  {
   "cell_type": "code",
   "execution_count": 15,
   "metadata": {},
   "outputs": [
    {
     "name": "stdout",
     "output_type": "stream",
     "text": [
      "4903\n",
      "4509\n"
     ]
    },
    {
     "data": {
      "text/plain": [
       "<matplotlib.text.Text at 0x7f4361da1650>"
      ]
     },
     "execution_count": 15,
     "metadata": {},
     "output_type": "execute_result"
    },
    {
     "data": {
      "image/png": "[encoded data removed]",
      "text/plain": [
       "<matplotlib.figure.Figure at 0x7f44308a3e90>"
      ]
     },
     "metadata": {},
     "output_type": "display_data"
    }
   ],
   "source": [
    "fig, ax = plt.subplots()\n",
    "#fig.set_dpi(500)\n",
    "fig.set_size_inches(4, 3)\n",
    "\n",
    "positions = get_position_dict(Positions_DataFrame[notStart&inRNA])\n",
    "\n",
    "libraries = ['ks170','ks172']\n",
    "colors = ['dimgrey','forestgreen']\n",
    "\n",
    "for library,color in zip(libraries,colors):\n",
    "    average_df=wrap_genes_GEN_averagegene(threshold_setting,RC[library],RPM[library],positions,upstream_length_setting,downstream_length_setting)\n",
    "    AGP_plotter(graph_downstream,graph_upstream,average_df,tick_distance,color)\n",
    "    \n",
    "ax.xaxis.set_ticks_position('bottom')\n",
    "ax.yaxis.set_ticks_position('left')\n",
    "sns.despine()\n",
    "\n",
    "plt.xticks([0,25,50],['-25','0','25'])\n",
    "plt.ylim(0,0.25)\n",
    "plt.yticks([0,0.1,0.2])\n",
    "plt.tick_params(labelsize=12)\n",
    "plt.ylabel('Average ribosome occupancy', fontsize=10)\n",
    "#plt.savefig('fig_reta_AGPviolin/reta_nonstart_Amut.pdf', dpi=500, bbox_inches=\"tight\", pad_inches=0.05)"
   ]
  },
  {
   "cell_type": "code",
   "execution_count": null,
   "metadata": {
    "collapsed": true
   },
   "outputs": [],
   "source": []
  },
  {
   "cell_type": "code",
   "execution_count": null,
   "metadata": {
    "collapsed": true
   },
   "outputs": [],
   "source": []
  }
 ],
 "metadata": {
  "kernelspec": {
   "display_name": "Python 2",
   "language": "python",
   "name": "python2"
  },
  "language_info": {
   "codemirror_mode": {
    "name": "ipython",
    "version": 2
   },
   "file_extension": ".py",
   "mimetype": "text/x-python",
   "name": "python",
   "nbconvert_exporter": "python",
   "pygments_lexer": "ipython2",
   "version": "2.7.15"
  }
 },
 "nbformat": 4,
 "nbformat_minor": 2
}
